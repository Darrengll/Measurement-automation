{
 "cells": [
  {
   "cell_type": "code",
   "execution_count": 1,
   "metadata": {},
   "outputs": [
    {
     "name": "stdout",
     "output_type": "stream",
     "text": [
      "Populating the interactive namespace from numpy and matplotlib\n"
     ]
    }
   ],
   "source": [
    "%pylab qt5\n",
    "warnings.filterwarnings(\"ignore\")\n",
    "import lib2\n",
    "from lib2.fulaut.MeasurementRunner import *\n",
    "from importlib import reload"
   ]
  },
  {
   "cell_type": "code",
   "execution_count": 2,
   "metadata": {
    "scrolled": false
   },
   "outputs": [
    {
     "name": "stdout",
     "output_type": "stream",
     "text": [
      "The device vna4 is detected as ZNB\n",
      "The device psg2 is detected as PSG\n",
      "The device yok6 is detected as YOK1\n"
     ]
    }
   ],
   "source": [
    "MR = MeasurementRunner(\"Xmon 1910-103-5\", \"S23\", {'vna': ['vna4'], 'mw_src': ['psg2'], 'cur_src': ['yok6']})"
   ]
  },
  {
   "cell_type": "code",
   "execution_count": null,
   "metadata": {
    "scrolled": true
   },
   "outputs": [
    {
     "name": "stdout",
     "output_type": "stream",
     "text": [
      "Done: 0.00%, 0/121, [1.605e-04, -1.046e-06, 5.398e+00, 6.174e-01, 1.191e-01]2e-01]"
     ]
    },
    {
     "name": "stderr",
     "output_type": "stream",
     "text": [
      "DEBUG:fulaut:Two-tone fit: [ 1.60520417e-04 -1.04551848e-06  5.39769508e+09  6.17357783e-01\n",
      "  1.19127402e-01]\n"
     ]
    },
    {
     "name": "stdout",
     "output_type": "stream",
     "text": [
      "\n",
      "\n"
     ]
    },
    {
     "name": "stderr",
     "output_type": "stream",
     "text": [
      "DEBUG:fulaut:Measurement V-AC-Stark init, devs: {'vna': [ZNB], 'mw_src': [<drivers.E8257D.EXG object at 0x0000023932242780>], 'current_src': [<drivers.Yokogawa_GS200.Yokogawa_GS210 object at 0x0000023932242C88>]}\n"
     ]
    },
    {
     "name": "stdout",
     "output_type": "stream",
     "text": [
      "Measurement result 'V-ac-stark' for the sample 'Xmon 1910-103-5' not found\n",
      "Started at:  2020-02-20 11:57:39.137339\n",
      "Time left: 0 h 0 m 0.0 s, [Readout power [dBm]: -3.50e+01, Frequency [Hz]: 5.45e+09], average cycle time: 0.17 s            \n",
      "Elapsed time: 0 h 18 m 8.49 s\n"
     ]
    },
    {
     "name": "stderr",
     "output_type": "stream",
     "text": [
      "DEBUG:fulaut:Transmon bare frequency: 5.4343 GHz, readout power (on SA): -57 dBm\n",
      "DEBUG:fulaut:Pulsed measurements at 5.434 GHz, -1.05e-06 A, 0.00e+00 periods away from sws\n",
      "DEBUG:fulaut:Requesting readout mixer cal: frozenset({('if_frequency', 0.0), ('lo_power', -10), ('lo_frequency', 6880000000.0), ('waveform_resolution', 1), ('ssb_power', -57)})\n",
      "DEBUG:fulaut:Measurement V-rabi init, devs: {'vna': [ZNB], 'q_lo': [<drivers.E8257D.EXG object at 0x0000023932242780>], 'q_awg': [<drivers.IQAWG.IQAWG object at 0x0000023932256668>], 'ro_awg': [<drivers.IQAWG.IQAWG object at 0x00000239322565F8>]}\n"
     ]
    },
    {
     "name": "stdout",
     "output_type": "stream",
     "text": [
      "Detecting a resonator within provided frequency range of the VNA (6879346735.532153, 6882346735.532153)                    \n",
      "Detected frequency is 6.88104 GHz, at 0.14 mU and -103.04 degrees\n",
      "Figure with window name 'Resonator fit' not found\n",
      "Started at:  2020-02-20 12:15:57.758176\n",
      "Time left: 0 h 0 m 0.0 s, [excitation_duration: 5.00e+02], average cycle time: 5.94 s          "
     ]
    },
    {
     "name": "stderr",
     "output_type": "stream",
     "text": [
      "DEBUG:fulaut:Measurement V-ramsey init, devs: {'vna': [ZNB], 'ro_awg': [<drivers.IQAWG.IQAWG object at 0x00000239322565F8>], 'q_awg': [<drivers.IQAWG.IQAWG object at 0x0000023932256668>], 'q_lo': [<drivers.E8257D.EXG object at 0x0000023932242780>]}\n"
     ]
    },
    {
     "name": "stdout",
     "output_type": "stream",
     "text": [
      "\n",
      "Elapsed time: 0 h 19 m 53.93 s\n",
      "Detecting a resonator within provided frequency range of the VNA (6879346735.532153, 6882346735.532153)                    \n",
      "Detected frequency is 6.88108 GHz, at 0.28 mU and 134.18 degrees\n",
      "Figure with window name 'Resonator fit' not found\n",
      "Started at:  2020-02-20 12:36:00.447911\n",
      "Time left: 0 h 0 m 0.0 s, [ramsey_delay: 5.00e+02], average cycle time: 6.67 s          \n",
      "Elapsed time: 0 h 22 m 20.58 s\n"
     ]
    },
    {
     "name": "stderr",
     "output_type": "stream",
     "text": [
      "DEBUG:fulaut:Measurement V-rabi init, devs: {'vna': [ZNB], 'q_lo': [<drivers.E8257D.EXG object at 0x0000023932242780>], 'q_awg': [<drivers.IQAWG.IQAWG object at 0x0000023932256668>], 'ro_awg': [<drivers.IQAWG.IQAWG object at 0x00000239322565F8>]}\n"
     ]
    },
    {
     "name": "stdout",
     "output_type": "stream",
     "text": [
      "Detecting a resonator within provided frequency range of the VNA (6879346735.532153, 6882346735.532153)                    \n",
      "Detected frequency is 6.88106 GHz, at 0.21 mU and -106.14 degrees\n",
      "Figure with window name 'Resonator fit' not found\n",
      "Started at:  2020-02-20 12:58:30.798929\n",
      "Time left: 0 h 4 m 1.99 s, [excitation_duration: 3.98e+02], average cycle time: 5.9 s          "
     ]
    }
   ],
   "source": [
    "MR.run([4,5])"
   ]
  },
  {
   "cell_type": "code",
   "execution_count": null,
   "metadata": {},
   "outputs": [],
   "source": [
    "import lib2.DispersiveHahnEcho\n",
    "reload(lib2.DispersiveHahnEcho)\n",
    "from lib2.DispersiveHahnEcho import *"
   ]
  },
  {
   "cell_type": "code",
   "execution_count": null,
   "metadata": {},
   "outputs": [],
   "source": [
    "MR._max_echo_delay = 100e3\n",
    "MR._echo_nop = 21"
   ]
  },
  {
   "cell_type": "code",
   "execution_count": null,
   "metadata": {},
   "outputs": [],
   "source": [
    "qubit_name= \"V\"\n",
    "DHE = DispersiveHahnEcho(\"%s-echo\" % qubit_name,\n",
    "                              MR._sample_name,\n",
    "                              vna=MR._vna,\n",
    "                              ro_awg=[MR._ro_awg],\n",
    "                              q_awg=[MR._q_awg],\n",
    "                              q_lo=MR._mw_src)\n",
    "\n",
    "vna_parameters = {\"bandwidth\": 10,\n",
    "                  \"freq_limits\": MR._res_limits[qubit_name],\n",
    "                  \"nop\": 50,\n",
    "                  \"averages\": 1,\n",
    "                  \"res_find_nop\": 401}\n",
    "\n",
    "echo_delays = linspace(0, MR._max_echo_delay, MR._echo_nop)\n",
    "exc_frequency = MR._exact_qubit_freqs[qubit_name]\n",
    "pi_pulse_duration = \\\n",
    "    MR._dro_results[qubit_name].get_pi_pulse_duration() * 1e3\n",
    "\n",
    "pulse_sequence_parameters = \\\n",
    "    {\"awg_trigger_reaction_delay\": 0,\n",
    "     \"readout_duration\": 6e3,\n",
    "     \"repetition_period\": MR._max_echo_delay + 100e3,\n",
    "     \"half_pi_pulse_duration\": pi_pulse_duration / 2}\n",
    "\n",
    "ro_awg_params = {\"calibration\": MR._ro_cal}\n",
    "q_awg_params = {\"calibration\": MR._exc_cal}\n",
    "\n",
    "mw_src_params = {'power': MR._exc_cal.get_radiation_parameters()[\"lo_power\"],\n",
    "                 'frequency': exc_frequency + MR._exc_cal.get_radiation_parameters()[\"if_frequency\"]}\n",
    "\n",
    "DHE.set_fixed_parameters(pulse_sequence_parameters,\n",
    "                        vna=[vna_parameters],\n",
    "                        ro_awg=[ro_awg_params],\n",
    "                        q_awg=[q_awg_params],\n",
    "                        q_lo=[mw_src_params])\n",
    "DHE.set_swept_parameters(echo_delays)\n",
    "MeasurementResult.close_figure_by_window_name(\"Resonator fit\")\n",
    "\n",
    "dhe_result = DHE.launch()"
   ]
  },
  {
   "cell_type": "code",
   "execution_count": null,
   "metadata": {},
   "outputs": [],
   "source": [
    "dhe_result.save()"
   ]
  },
  {
   "cell_type": "code",
   "execution_count": null,
   "metadata": {},
   "outputs": [],
   "source": [
    "MR._dro_results[\"V\"]"
   ]
  },
  {
   "cell_type": "code",
   "execution_count": null,
   "metadata": {},
   "outputs": [],
   "source": [
    "print(MR._ro_cal)"
   ]
  },
  {
   "cell_type": "code",
   "execution_count": null,
   "metadata": {},
   "outputs": [],
   "source": [
    "self._sa.setup_list_sweep([res_freq], [1000])\n"
   ]
  },
  {
   "cell_type": "code",
   "execution_count": null,
   "metadata": {},
   "outputs": [],
   "source": [
    "plot(MR._sa.get_tracedata())"
   ]
  },
  {
   "cell_type": "code",
   "execution_count": null,
   "metadata": {},
   "outputs": [],
   "source": [
    "MR._vna[0].sweep_continuous()\n",
    "sleep(0.5)"
   ]
  },
  {
   "cell_type": "code",
   "execution_count": null,
   "metadata": {},
   "outputs": [],
   "source": [
    "MR._open_only_readout_mixer()\n",
    "MR._open_mixers()"
   ]
  },
  {
   "cell_type": "code",
   "execution_count": null,
   "metadata": {},
   "outputs": [],
   "source": [
    "qubit_name = \"VI\"\n",
    "DD = DispersiveDecay(\"%s-decay\" % qubit_name,\n",
    "                             MR._sample_name,\n",
    "                             vna=MR._vna,\n",
    "                             ro_awg=[MR._ro_awg],\n",
    "                             q_awg=[MR._q_awg],\n",
    "                             q_lo=MR._mw_src)\n",
    "\n",
    "vna_parameters = {\"bandwidth\": 10,\n",
    "                  \"freq_limits\": MR._res_limits[qubit_name],\n",
    "                  \"nop\": 50,\n",
    "                  \"averages\": 1,\n",
    "                  \"res_find_nop\":401}\n",
    "\n",
    "readout_delays = linspace(0, 90000, 101)\n",
    "exc_frequency = MR._exact_qubit_freqs[qubit_name]\n",
    "pi_pulse_duration = \\\n",
    "    MR._dro_results[qubit_name].get_pi_pulse_duration() * 1e3\n",
    "\n",
    "pulse_sequence_parameters = {\"awg_trigger_reaction_delay\": 0,\n",
    "                             \"readout_duration\": 12000,\n",
    "                             \"repetition_period\": 150000,\n",
    "                             \"pi_pulse_duration\": pi_pulse_duration}\n",
    "\n",
    "ro_awg_params = {\"calibration\": MR._ro_cal}\n",
    "q_awg_params = {\"calibration\": MR._exc_cal}\n",
    "\n",
    "q_lo_params = {'power': MR._exc_cal.get_radiation_parameters()[\"lo_power\"],\n",
    "               'frequency': exc_frequency + MR._exc_cal.get_radiation_parameters()[\"if_frequency\"]}\n",
    "\n",
    "DD.set_fixed_parameters(pulse_sequence_parameters,\n",
    "                vna = [vna_parameters],\n",
    "                ro_awg = [ro_awg_params],\n",
    "                q_awg = [q_awg_params],\n",
    "                q_lo = [q_lo_params])\n",
    "DD.set_swept_parameters(readout_delays)\n",
    "MeasurementResult.close_figure_by_window_name(\"Resonator fit\")\n",
    "dd_result = DD.launch()"
   ]
  },
  {
   "cell_type": "code",
   "execution_count": null,
   "metadata": {},
   "outputs": [],
   "source": [
    "dd_result.save()"
   ]
  },
  {
   "cell_type": "code",
   "execution_count": null,
   "metadata": {},
   "outputs": [],
   "source": [
    "MR._calibrate_readout(\"VI\")"
   ]
  },
  {
   "cell_type": "code",
   "execution_count": null,
   "metadata": {},
   "outputs": [],
   "source": [
    "sts_result = MeasurementResult.load(MR._sample_name, \"I-sts\")"
   ]
  },
  {
   "cell_type": "code",
   "execution_count": null,
   "metadata": {},
   "outputs": [],
   "source": [
    "ao = AnticrossingOracle(\"transmon\", sts_result, plot=True, fast_res_detect=False, hints=[\"fqmax_below\"])"
   ]
  },
  {
   "cell_type": "code",
   "execution_count": null,
   "metadata": {},
   "outputs": [],
   "source": [
    "fres, g, period, sws, fqmax, d = ao.launch()[0]"
   ]
  },
  {
   "cell_type": "code",
   "execution_count": null,
   "metadata": {},
   "outputs": [],
   "source": [
    "tts_result = MeasurementResult.load(MR._sample_name, \"I-two-tone\")"
   ]
  },
  {
   "cell_type": "code",
   "execution_count": null,
   "metadata": {},
   "outputs": [],
   "source": [
    "reload(lib2.fulaut.SpectrumOracle)\n",
    "from lib2.fulaut.SpectrumOracle import *"
   ]
  },
  {
   "cell_type": "code",
   "execution_count": null,
   "metadata": {},
   "outputs": [],
   "source": [
    "so = SpectrumOracle('transmon', tts_result, (period, sws, fqmax, d), True)"
   ]
  },
  {
   "cell_type": "code",
   "execution_count": null,
   "metadata": {},
   "outputs": [],
   "source": [
    "so.launch()"
   ]
  },
  {
   "cell_type": "code",
   "execution_count": null,
   "metadata": {},
   "outputs": [],
   "source": [
    "[(1/a, b, c) for a,b,c in sorted(zip(so._coarse_brute_nop_ranking,\n",
    "           so._coarse_brute_distance_ranking,\n",
    "           so._coarse_brute_candidates),\n",
    "                   key=itemgetter(0, 1))]"
   ]
  },
  {
   "cell_type": "code",
   "execution_count": null,
   "metadata": {},
   "outputs": [],
   "source": [
    "so._coarse_brute_distance_ranking"
   ]
  },
  {
   "cell_type": "code",
   "execution_count": null,
   "metadata": {},
   "outputs": [],
   "source": [
    "MR._logger.getInstance(\"fulaut\")"
   ]
  },
  {
   "cell_type": "code",
   "execution_count": null,
   "metadata": {
    "scrolled": true
   },
   "outputs": [],
   "source": [
    "MR._perform_decay(\"IV\")"
   ]
  },
  {
   "cell_type": "code",
   "execution_count": null,
   "metadata": {},
   "outputs": [],
   "source": [
    "MR._dd_results[\"VI\"].save()"
   ]
  },
  {
   "cell_type": "code",
   "execution_count": null,
   "metadata": {},
   "outputs": [],
   "source": [
    "MR._perform_Ramsey_oscillations(\"VI\")"
   ]
  },
  {
   "cell_type": "code",
   "execution_count": null,
   "metadata": {},
   "outputs": [],
   "source": [
    "transmon_spectrum(*MR._tts_fit_params[\"III\"])"
   ]
  },
  {
   "cell_type": "code",
   "execution_count": null,
   "metadata": {},
   "outputs": [],
   "source": [
    "MR._tts_fit_params[\"III\"]"
   ]
  },
  {
   "cell_type": "code",
   "execution_count": null,
   "metadata": {},
   "outputs": [],
   "source": [
    "MR._sts_runners[\"I\"]._sts_result.visualize()"
   ]
  },
  {
   "cell_type": "code",
   "execution_count": null,
   "metadata": {},
   "outputs": [],
   "source": [
    "# mean([1,2,3,4,5])"
   ]
  },
  {
   "cell_type": "code",
   "execution_count": null,
   "metadata": {},
   "outputs": [],
   "source": [
    "MR._tts_runners[\"III\"]._tts_result.save()"
   ]
  },
  {
   "cell_type": "code",
   "execution_count": null,
   "metadata": {
    "scrolled": true
   },
   "outputs": [],
   "source": [
    "MR._sts"
   ]
  },
  {
   "cell_type": "code",
   "execution_count": null,
   "metadata": {},
   "outputs": [],
   "source": [
    "MR._tts_fit_params"
   ]
  },
  {
   "cell_type": "code",
   "execution_count": null,
   "metadata": {},
   "outputs": [],
   "source": [
    "MR._exact_qubit_freqs"
   ]
  },
  {
   "cell_type": "code",
   "execution_count": null,
   "metadata": {},
   "outputs": [],
   "source": [
    "res = MR._sts_runners[\"I\"]._sts_result\n",
    "res"
   ]
  },
  {
   "cell_type": "code",
   "execution_count": null,
   "metadata": {},
   "outputs": [],
   "source": [
    "res/1e6"
   ]
  },
  {
   "cell_type": "code",
   "execution_count": null,
   "metadata": {},
   "outputs": [],
   "source": [
    "ao = AnticrossingOracle(\"transmon\", res, True)"
   ]
  },
  {
   "cell_type": "code",
   "execution_count": null,
   "metadata": {},
   "outputs": [],
   "source": [
    "ao.find_resonator_intersections()"
   ]
  },
  {
   "cell_type": "code",
   "execution_count": null,
   "metadata": {},
   "outputs": [],
   "source": [
    "ao._res_points[1][0]-ao._res_points[21][0]"
   ]
  },
  {
   "cell_type": "code",
   "execution_count": null,
   "metadata": {},
   "outputs": [],
   "source": [
    "ao.launch()"
   ]
  },
  {
   "cell_type": "code",
   "execution_count": null,
   "metadata": {},
   "outputs": [],
   "source": [
    "data = res.get_data()"
   ]
  },
  {
   "cell_type": "code",
   "execution_count": null,
   "metadata": {},
   "outputs": [],
   "source": [
    "freqs, data = data[\"frequency\"], data[\"data\"]"
   ]
  },
  {
   "cell_type": "code",
   "execution_count": null,
   "metadata": {},
   "outputs": [],
   "source": [
    "RD = ResonatorDetector(freqs, data[5], plot=True)"
   ]
  },
  {
   "cell_type": "code",
   "execution_count": null,
   "metadata": {},
   "outputs": [],
   "source": [
    "RD.detect()"
   ]
  },
  {
   "cell_type": "code",
   "execution_count": null,
   "metadata": {},
   "outputs": [],
   "source": [
    "plot(freqs, abs(data[1]))"
   ]
  },
  {
   "cell_type": "code",
   "execution_count": null,
   "metadata": {},
   "outputs": [],
   "source": [
    "from resonator_tools.circuit import notch_port"
   ]
  },
  {
   "cell_type": "code",
   "execution_count": null,
   "metadata": {},
   "outputs": [],
   "source": [
    "NP = notch_port(freqs, data[1])"
   ]
  },
  {
   "cell_type": "code",
   "execution_count": null,
   "metadata": {},
   "outputs": [],
   "source": [
    "NP.autofit()"
   ]
  },
  {
   "cell_type": "code",
   "execution_count": null,
   "metadata": {},
   "outputs": [],
   "source": [
    "NP.plotall()"
   ]
  },
  {
   "cell_type": "code",
   "execution_count": null,
   "metadata": {},
   "outputs": [],
   "source": [
    "NP.NP._fit_skewed_lorentzian(freqs, data[1])"
   ]
  },
  {
   "cell_type": "code",
   "execution_count": null,
   "metadata": {},
   "outputs": [],
   "source": [
    "NP.fitresults"
   ]
  },
  {
   "cell_type": "code",
   "execution_count": null,
   "metadata": {},
   "outputs": [],
   "source": []
  }
 ],
 "metadata": {
  "kernelspec": {
   "display_name": "Python 3",
   "language": "python",
   "name": "python3"
  },
  "language_info": {
   "codemirror_mode": {
    "name": "ipython",
    "version": 3
   },
   "file_extension": ".py",
   "mimetype": "text/x-python",
   "name": "python",
   "nbconvert_exporter": "python",
   "pygments_lexer": "ipython3",
   "version": "3.6.8"
  }
 },
 "nbformat": 4,
 "nbformat_minor": 2
}
