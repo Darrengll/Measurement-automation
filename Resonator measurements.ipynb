{
 "cells": [
  {
   "cell_type": "markdown",
   "metadata": {},
   "source": [
    "# Notebook for getting S$_{14}$s of resonators vs "
   ]
  },
  {
   "cell_type": "markdown",
   "metadata": {},
   "source": [
    "Loading libraries requred below:"
   ]
  },
  {
   "cell_type": "code",
   "execution_count": 6,
   "metadata": {},
   "outputs": [
    {
     "name": "stdout",
     "output_type": "stream",
     "text": [
      "Populating the interactive namespace from numpy and matplotlib\n"
     ]
    }
   ],
   "source": [
    "%pylab notebook"
   ]
  },
  {
   "cell_type": "code",
   "execution_count": 7,
   "metadata": {},
   "outputs": [],
   "source": [
    "import time\n",
    "import pickle\n",
    "import sys\n",
    "from scipy.signal import argrelextrema\n",
    "from scipy.optimize import curve_fit\n",
    "import os"
   ]
  },
  {
   "cell_type": "code",
   "execution_count": 8,
   "metadata": {},
   "outputs": [],
   "source": [
    "from drivers.agilent_PNA_L import *\n",
    "from drivers.znb import *"
   ]
  },
  {
   "cell_type": "markdown",
   "metadata": {},
   "source": [
    "### Setting the name for the sample"
   ]
  },
  {
   "cell_type": "code",
   "execution_count": 9,
   "metadata": {},
   "outputs": [],
   "source": [
    "#sample_name = \"Xmon_2Q_holes(1808_068-3)\" #sample name will be used in the filenames\n",
    "sample_name = \"1901 2Q-2 016-1\"\n",
    "s_param = \"S21\" # specify where the sample is connected"
   ]
  },
  {
   "cell_type": "markdown",
   "metadata": {},
   "source": [
    "### Getting the general view S$_{21}$ scan of the sample and detect resonator positions"
   ]
  },
  {
   "cell_type": "code",
   "execution_count": 10,
   "metadata": {
    "scrolled": true
   },
   "outputs": [],
   "source": [
    "vna = Agilent_PNA_L(\"PNA-L2\") # loading the vector network analyser object from the driver\n",
    "# vna = Znb(\"ZNB\")"
   ]
  },
  {
   "cell_type": "code",
   "execution_count": 11,
   "metadata": {},
   "outputs": [],
   "source": [
    "vna.select_S_param(s_param)"
   ]
  },
  {
   "cell_type": "code",
   "execution_count": 12,
   "metadata": {},
   "outputs": [],
   "source": [
    "vna.sweep_hold()"
   ]
  },
  {
   "cell_type": "code",
   "execution_count": 13,
   "metadata": {},
   "outputs": [
    {
     "ename": "AttributeError",
     "evalue": "'Agilent_PNA_L' object has no attribute 'set_average_mode'",
     "output_type": "error",
     "traceback": [
      "\u001b[1;31m---------------------------------------------------------------------------\u001b[0m",
      "\u001b[1;31mAttributeError\u001b[0m                            Traceback (most recent call last)",
      "\u001b[1;32m<ipython-input-13-d072059aa4ec>\u001b[0m in \u001b[0;36m<module>\u001b[1;34m\u001b[0m\n\u001b[1;32m----> 1\u001b[1;33m \u001b[0mvna\u001b[0m\u001b[1;33m.\u001b[0m\u001b[0mset_average_mode\u001b[0m\u001b[1;33m(\u001b[0m\u001b[1;34m\"REDUCE\"\u001b[0m\u001b[1;33m)\u001b[0m\u001b[1;33m\u001b[0m\u001b[1;33m\u001b[0m\u001b[0m\n\u001b[0m",
      "\u001b[1;31mAttributeError\u001b[0m: 'Agilent_PNA_L' object has no attribute 'set_average_mode'"
     ]
    }
   ],
   "source": [
    "vna.set_average_mode(\"REDUCE\")"
   ]
  },
  {
   "cell_type": "markdown",
   "metadata": {},
   "source": [
    "Setting the parameters of the scan:"
   ]
  },
  {
   "cell_type": "code",
   "execution_count": 39,
   "metadata": {},
   "outputs": [
    {
     "data": {
      "text/plain": [
       "True"
      ]
     },
     "execution_count": 39,
     "metadata": {},
     "output_type": "execute_result"
    }
   ],
   "source": [
    "vna.set_xlim(6e9, 8e9) # setting the scan area\n",
    "vna.set_bandwidth(200)\n",
    "vna.set_nop(20001)\n",
    "vna.set_averages(1)\n",
    "vna.set_power(-5)"
   ]
  },
  {
   "cell_type": "code",
   "execution_count": 40,
   "metadata": {},
   "outputs": [],
   "source": [
    "vna.prepare_for_stb()\n",
    "vna.sweep_single() # triggering the sweep\n",
    "vna.wait_for_stb()\n",
    "vna.autoscale_all()"
   ]
  },
  {
   "cell_type": "code",
   "execution_count": 41,
   "metadata": {},
   "outputs": [],
   "source": [
    "def guess_scan_areas(area_size, depth):\n",
    "    '''\n",
    "    Function to get the approximate positions of the resonator dips and return small areas around them\n",
    "    Parameters:\n",
    "    -----------\n",
    "        area_size : double\n",
    "        Sets the diams of the returned scan areas (Hz)\n",
    "        \n",
    "        depth : double\n",
    "        Count everything deeper than median transmission depth near a minimum as a resonator dip. \n",
    "        Should be chosen manually each time\n",
    "    Returns:\n",
    "        scan_areas : list\n",
    "        A list of tuples each representing an area in frequency presumably around the resonator dips\n",
    "    '''\n",
    "    freqs, amps = vna.get_frequencies(), 20*log10(abs(vna.get_sdata()))\n",
    "    window = 100\n",
    "    extrema = argrelextrema(amps, np.less, order=window)[0]\n",
    "    deep_minima = []\n",
    "    for extremum in extrema:\n",
    "        mean_transmission = median(amps[extremum-window//2:extremum+window//2])\n",
    "        if amps[extremum]<mean_transmission-depth:\n",
    "            deep_minima.append(freqs[extremum])\n",
    "    return [(m-area_size/2, m+area_size/2) for m in deep_minima]"
   ]
  },
  {
   "cell_type": "code",
   "execution_count": 42,
   "metadata": {},
   "outputs": [
    {
     "data": {
      "text/plain": [
       "([(6819900000.0, 6869900000.0),\n",
       "  (7315900000.0, 7365900000.0),\n",
       "  (7778900000.0, 7828900000.0)],\n",
       " 3)"
      ]
     },
     "execution_count": 42,
     "metadata": {},
     "output_type": "execute_result"
    }
   ],
   "source": [
    "scan_areas = guess_scan_areas(50e6, 0.3)[:]\n",
    "#scan_areas[:10], len(scan_areas)\n",
    "scan_areas, len(scan_areas)"
   ]
  },
  {
   "cell_type": "code",
   "execution_count": 43,
   "metadata": {},
   "outputs": [],
   "source": [
    "# manual override for the scan areas, don't use if guessing succeeded\n",
    "# scan_areas = [(8.09e9, 8.096e9),(8357650000.0, 8362650000.0)] \n",
    "# scan_areas.append((7.7e9, 7.8e9))\n",
    "# scan_areas[7] = (7.737e9, 7.741e9)\n",
    "# scan_areas.insert(-1, (7.48e9, 7.488e9))\n",
    "# del scan_areas[-2:]\n",
    "#scan_areas, len(scan_areas)\n",
    "\n",
    "#([(7502280000.0, 7522280000.0),\n",
    "#  (7598880000.0, 7618880000.0),\n",
    "#  (7679520000.0, 7699520000.0),\n",
    "#  (7783120000.0, 7803120000.0),\n",
    "#  (7868520000.0, 7888520000.0),\n",
    "#  (7969880000.0, 7989880000.0),\n",
    "#  (8468280000.0, 8488280000.0),\n",
    "#  (8717200000.0, 8737200000.0)],\n",
    "# 8)"
   ]
  },
  {
   "cell_type": "code",
   "execution_count": 44,
   "metadata": {
    "scrolled": false
   },
   "outputs": [
    {
     "data": {
      "application/javascript": [
       "/* Put everything inside the global mpl namespace */\n",
       "window.mpl = {};\n",
       "\n",
       "\n",
       "mpl.get_websocket_type = function() {\n",
       "    if (typeof(WebSocket) !== 'undefined') {\n",
       "        return WebSocket;\n",
       "    } else if (typeof(MozWebSocket) !== 'undefined') {\n",
       "        return MozWebSocket;\n",
       "    } else {\n",
       "        alert('Your browser does not have WebSocket support. ' +\n",
       "              'Please try Chrome, Safari or Firefox ≥ 6. ' +\n",
       "              'Firefox 4 and 5 are also supported but you ' +\n",
       "              'have to enable WebSockets in about:config.');\n",
       "    };\n",
       "}\n",
       "\n",
       "mpl.figure = function(figure_id, websocket, ondownload, parent_element) {\n",
       "    this.id = figure_id;\n",
       "\n",
       "    this.ws = websocket;\n",
       "\n",
       "    this.supports_binary = (this.ws.binaryType != undefined);\n",
       "\n",
       "    if (!this.supports_binary) {\n",
       "        var warnings = document.getElementById(\"mpl-warnings\");\n",
       "        if (warnings) {\n",
       "            warnings.style.display = 'block';\n",
       "            warnings.textContent = (\n",
       "                \"This browser does not support binary websocket messages. \" +\n",
       "                    \"Performance may be slow.\");\n",
       "        }\n",
       "    }\n",
       "\n",
       "    this.imageObj = new Image();\n",
       "\n",
       "    this.context = undefined;\n",
       "    this.message = undefined;\n",
       "    this.canvas = undefined;\n",
       "    this.rubberband_canvas = undefined;\n",
       "    this.rubberband_context = undefined;\n",
       "    this.format_dropdown = undefined;\n",
       "\n",
       "    this.image_mode = 'full';\n",
       "\n",
       "    this.root = $('<div/>');\n",
       "    this._root_extra_style(this.root)\n",
       "    this.root.attr('style', 'display: inline-block');\n",
       "\n",
       "    $(parent_element).append(this.root);\n",
       "\n",
       "    this._init_header(this);\n",
       "    this._init_canvas(this);\n",
       "    this._init_toolbar(this);\n",
       "\n",
       "    var fig = this;\n",
       "\n",
       "    this.waiting = false;\n",
       "\n",
       "    this.ws.onopen =  function () {\n",
       "            fig.send_message(\"supports_binary\", {value: fig.supports_binary});\n",
       "            fig.send_message(\"send_image_mode\", {});\n",
       "            if (mpl.ratio != 1) {\n",
       "                fig.send_message(\"set_dpi_ratio\", {'dpi_ratio': mpl.ratio});\n",
       "            }\n",
       "            fig.send_message(\"refresh\", {});\n",
       "        }\n",
       "\n",
       "    this.imageObj.onload = function() {\n",
       "            if (fig.image_mode == 'full') {\n",
       "                // Full images could contain transparency (where diff images\n",
       "                // almost always do), so we need to clear the canvas so that\n",
       "                // there is no ghosting.\n",
       "                fig.context.clearRect(0, 0, fig.canvas.width, fig.canvas.height);\n",
       "            }\n",
       "            fig.context.drawImage(fig.imageObj, 0, 0);\n",
       "        };\n",
       "\n",
       "    this.imageObj.onunload = function() {\n",
       "        fig.ws.close();\n",
       "    }\n",
       "\n",
       "    this.ws.onmessage = this._make_on_message_function(this);\n",
       "\n",
       "    this.ondownload = ondownload;\n",
       "}\n",
       "\n",
       "mpl.figure.prototype._init_header = function() {\n",
       "    var titlebar = $(\n",
       "        '<div class=\"ui-dialog-titlebar ui-widget-header ui-corner-all ' +\n",
       "        'ui-helper-clearfix\"/>');\n",
       "    var titletext = $(\n",
       "        '<div class=\"ui-dialog-title\" style=\"width: 100%; ' +\n",
       "        'text-align: center; padding: 3px;\"/>');\n",
       "    titlebar.append(titletext)\n",
       "    this.root.append(titlebar);\n",
       "    this.header = titletext[0];\n",
       "}\n",
       "\n",
       "\n",
       "\n",
       "mpl.figure.prototype._canvas_extra_style = function(canvas_div) {\n",
       "\n",
       "}\n",
       "\n",
       "\n",
       "mpl.figure.prototype._root_extra_style = function(canvas_div) {\n",
       "\n",
       "}\n",
       "\n",
       "mpl.figure.prototype._init_canvas = function() {\n",
       "    var fig = this;\n",
       "\n",
       "    var canvas_div = $('<div/>');\n",
       "\n",
       "    canvas_div.attr('style', 'position: relative; clear: both; outline: 0');\n",
       "\n",
       "    function canvas_keyboard_event(event) {\n",
       "        return fig.key_event(event, event['data']);\n",
       "    }\n",
       "\n",
       "    canvas_div.keydown('key_press', canvas_keyboard_event);\n",
       "    canvas_div.keyup('key_release', canvas_keyboard_event);\n",
       "    this.canvas_div = canvas_div\n",
       "    this._canvas_extra_style(canvas_div)\n",
       "    this.root.append(canvas_div);\n",
       "\n",
       "    var canvas = $('<canvas/>');\n",
       "    canvas.addClass('mpl-canvas');\n",
       "    canvas.attr('style', \"left: 0; top: 0; z-index: 0; outline: 0\")\n",
       "\n",
       "    this.canvas = canvas[0];\n",
       "    this.context = canvas[0].getContext(\"2d\");\n",
       "\n",
       "    var backingStore = this.context.backingStorePixelRatio ||\n",
       "\tthis.context.webkitBackingStorePixelRatio ||\n",
       "\tthis.context.mozBackingStorePixelRatio ||\n",
       "\tthis.context.msBackingStorePixelRatio ||\n",
       "\tthis.context.oBackingStorePixelRatio ||\n",
       "\tthis.context.backingStorePixelRatio || 1;\n",
       "\n",
       "    mpl.ratio = (window.devicePixelRatio || 1) / backingStore;\n",
       "\n",
       "    var rubberband = $('<canvas/>');\n",
       "    rubberband.attr('style', \"position: absolute; left: 0; top: 0; z-index: 1;\")\n",
       "\n",
       "    var pass_mouse_events = true;\n",
       "\n",
       "    canvas_div.resizable({\n",
       "        start: function(event, ui) {\n",
       "            pass_mouse_events = false;\n",
       "        },\n",
       "        resize: function(event, ui) {\n",
       "            fig.request_resize(ui.size.width, ui.size.height);\n",
       "        },\n",
       "        stop: function(event, ui) {\n",
       "            pass_mouse_events = true;\n",
       "            fig.request_resize(ui.size.width, ui.size.height);\n",
       "        },\n",
       "    });\n",
       "\n",
       "    function mouse_event_fn(event) {\n",
       "        if (pass_mouse_events)\n",
       "            return fig.mouse_event(event, event['data']);\n",
       "    }\n",
       "\n",
       "    rubberband.mousedown('button_press', mouse_event_fn);\n",
       "    rubberband.mouseup('button_release', mouse_event_fn);\n",
       "    // Throttle sequential mouse events to 1 every 20ms.\n",
       "    rubberband.mousemove('motion_notify', mouse_event_fn);\n",
       "\n",
       "    rubberband.mouseenter('figure_enter', mouse_event_fn);\n",
       "    rubberband.mouseleave('figure_leave', mouse_event_fn);\n",
       "\n",
       "    canvas_div.on(\"wheel\", function (event) {\n",
       "        event = event.originalEvent;\n",
       "        event['data'] = 'scroll'\n",
       "        if (event.deltaY < 0) {\n",
       "            event.step = 1;\n",
       "        } else {\n",
       "            event.step = -1;\n",
       "        }\n",
       "        mouse_event_fn(event);\n",
       "    });\n",
       "\n",
       "    canvas_div.append(canvas);\n",
       "    canvas_div.append(rubberband);\n",
       "\n",
       "    this.rubberband = rubberband;\n",
       "    this.rubberband_canvas = rubberband[0];\n",
       "    this.rubberband_context = rubberband[0].getContext(\"2d\");\n",
       "    this.rubberband_context.strokeStyle = \"#000000\";\n",
       "\n",
       "    this._resize_canvas = function(width, height) {\n",
       "        // Keep the size of the canvas, canvas container, and rubber band\n",
       "        // canvas in synch.\n",
       "        canvas_div.css('width', width)\n",
       "        canvas_div.css('height', height)\n",
       "\n",
       "        canvas.attr('width', width * mpl.ratio);\n",
       "        canvas.attr('height', height * mpl.ratio);\n",
       "        canvas.attr('style', 'width: ' + width + 'px; height: ' + height + 'px;');\n",
       "\n",
       "        rubberband.attr('width', width);\n",
       "        rubberband.attr('height', height);\n",
       "    }\n",
       "\n",
       "    // Set the figure to an initial 600x600px, this will subsequently be updated\n",
       "    // upon first draw.\n",
       "    this._resize_canvas(600, 600);\n",
       "\n",
       "    // Disable right mouse context menu.\n",
       "    $(this.rubberband_canvas).bind(\"contextmenu\",function(e){\n",
       "        return false;\n",
       "    });\n",
       "\n",
       "    function set_focus () {\n",
       "        canvas.focus();\n",
       "        canvas_div.focus();\n",
       "    }\n",
       "\n",
       "    window.setTimeout(set_focus, 100);\n",
       "}\n",
       "\n",
       "mpl.figure.prototype._init_toolbar = function() {\n",
       "    var fig = this;\n",
       "\n",
       "    var nav_element = $('<div/>');\n",
       "    nav_element.attr('style', 'width: 100%');\n",
       "    this.root.append(nav_element);\n",
       "\n",
       "    // Define a callback function for later on.\n",
       "    function toolbar_event(event) {\n",
       "        return fig.toolbar_button_onclick(event['data']);\n",
       "    }\n",
       "    function toolbar_mouse_event(event) {\n",
       "        return fig.toolbar_button_onmouseover(event['data']);\n",
       "    }\n",
       "\n",
       "    for(var toolbar_ind in mpl.toolbar_items) {\n",
       "        var name = mpl.toolbar_items[toolbar_ind][0];\n",
       "        var tooltip = mpl.toolbar_items[toolbar_ind][1];\n",
       "        var image = mpl.toolbar_items[toolbar_ind][2];\n",
       "        var method_name = mpl.toolbar_items[toolbar_ind][3];\n",
       "\n",
       "        if (!name) {\n",
       "            // put a spacer in here.\n",
       "            continue;\n",
       "        }\n",
       "        var button = $('<button/>');\n",
       "        button.addClass('ui-button ui-widget ui-state-default ui-corner-all ' +\n",
       "                        'ui-button-icon-only');\n",
       "        button.attr('role', 'button');\n",
       "        button.attr('aria-disabled', 'false');\n",
       "        button.click(method_name, toolbar_event);\n",
       "        button.mouseover(tooltip, toolbar_mouse_event);\n",
       "\n",
       "        var icon_img = $('<span/>');\n",
       "        icon_img.addClass('ui-button-icon-primary ui-icon');\n",
       "        icon_img.addClass(image);\n",
       "        icon_img.addClass('ui-corner-all');\n",
       "\n",
       "        var tooltip_span = $('<span/>');\n",
       "        tooltip_span.addClass('ui-button-text');\n",
       "        tooltip_span.html(tooltip);\n",
       "\n",
       "        button.append(icon_img);\n",
       "        button.append(tooltip_span);\n",
       "\n",
       "        nav_element.append(button);\n",
       "    }\n",
       "\n",
       "    var fmt_picker_span = $('<span/>');\n",
       "\n",
       "    var fmt_picker = $('<select/>');\n",
       "    fmt_picker.addClass('mpl-toolbar-option ui-widget ui-widget-content');\n",
       "    fmt_picker_span.append(fmt_picker);\n",
       "    nav_element.append(fmt_picker_span);\n",
       "    this.format_dropdown = fmt_picker[0];\n",
       "\n",
       "    for (var ind in mpl.extensions) {\n",
       "        var fmt = mpl.extensions[ind];\n",
       "        var option = $(\n",
       "            '<option/>', {selected: fmt === mpl.default_extension}).html(fmt);\n",
       "        fmt_picker.append(option);\n",
       "    }\n",
       "\n",
       "    // Add hover states to the ui-buttons\n",
       "    $( \".ui-button\" ).hover(\n",
       "        function() { $(this).addClass(\"ui-state-hover\");},\n",
       "        function() { $(this).removeClass(\"ui-state-hover\");}\n",
       "    );\n",
       "\n",
       "    var status_bar = $('<span class=\"mpl-message\"/>');\n",
       "    nav_element.append(status_bar);\n",
       "    this.message = status_bar[0];\n",
       "}\n",
       "\n",
       "mpl.figure.prototype.request_resize = function(x_pixels, y_pixels) {\n",
       "    // Request matplotlib to resize the figure. Matplotlib will then trigger a resize in the client,\n",
       "    // which will in turn request a refresh of the image.\n",
       "    this.send_message('resize', {'width': x_pixels, 'height': y_pixels});\n",
       "}\n",
       "\n",
       "mpl.figure.prototype.send_message = function(type, properties) {\n",
       "    properties['type'] = type;\n",
       "    properties['figure_id'] = this.id;\n",
       "    this.ws.send(JSON.stringify(properties));\n",
       "}\n",
       "\n",
       "mpl.figure.prototype.send_draw_message = function() {\n",
       "    if (!this.waiting) {\n",
       "        this.waiting = true;\n",
       "        this.ws.send(JSON.stringify({type: \"draw\", figure_id: this.id}));\n",
       "    }\n",
       "}\n",
       "\n",
       "\n",
       "mpl.figure.prototype.handle_save = function(fig, msg) {\n",
       "    var format_dropdown = fig.format_dropdown;\n",
       "    var format = format_dropdown.options[format_dropdown.selectedIndex].value;\n",
       "    fig.ondownload(fig, format);\n",
       "}\n",
       "\n",
       "\n",
       "mpl.figure.prototype.handle_resize = function(fig, msg) {\n",
       "    var size = msg['size'];\n",
       "    if (size[0] != fig.canvas.width || size[1] != fig.canvas.height) {\n",
       "        fig._resize_canvas(size[0], size[1]);\n",
       "        fig.send_message(\"refresh\", {});\n",
       "    };\n",
       "}\n",
       "\n",
       "mpl.figure.prototype.handle_rubberband = function(fig, msg) {\n",
       "    var x0 = msg['x0'] / mpl.ratio;\n",
       "    var y0 = (fig.canvas.height - msg['y0']) / mpl.ratio;\n",
       "    var x1 = msg['x1'] / mpl.ratio;\n",
       "    var y1 = (fig.canvas.height - msg['y1']) / mpl.ratio;\n",
       "    x0 = Math.floor(x0) + 0.5;\n",
       "    y0 = Math.floor(y0) + 0.5;\n",
       "    x1 = Math.floor(x1) + 0.5;\n",
       "    y1 = Math.floor(y1) + 0.5;\n",
       "    var min_x = Math.min(x0, x1);\n",
       "    var min_y = Math.min(y0, y1);\n",
       "    var width = Math.abs(x1 - x0);\n",
       "    var height = Math.abs(y1 - y0);\n",
       "\n",
       "    fig.rubberband_context.clearRect(\n",
       "        0, 0, fig.canvas.width, fig.canvas.height);\n",
       "\n",
       "    fig.rubberband_context.strokeRect(min_x, min_y, width, height);\n",
       "}\n",
       "\n",
       "mpl.figure.prototype.handle_figure_label = function(fig, msg) {\n",
       "    // Updates the figure title.\n",
       "    fig.header.textContent = msg['label'];\n",
       "}\n",
       "\n",
       "mpl.figure.prototype.handle_cursor = function(fig, msg) {\n",
       "    var cursor = msg['cursor'];\n",
       "    switch(cursor)\n",
       "    {\n",
       "    case 0:\n",
       "        cursor = 'pointer';\n",
       "        break;\n",
       "    case 1:\n",
       "        cursor = 'default';\n",
       "        break;\n",
       "    case 2:\n",
       "        cursor = 'crosshair';\n",
       "        break;\n",
       "    case 3:\n",
       "        cursor = 'move';\n",
       "        break;\n",
       "    }\n",
       "    fig.rubberband_canvas.style.cursor = cursor;\n",
       "}\n",
       "\n",
       "mpl.figure.prototype.handle_message = function(fig, msg) {\n",
       "    fig.message.textContent = msg['message'];\n",
       "}\n",
       "\n",
       "mpl.figure.prototype.handle_draw = function(fig, msg) {\n",
       "    // Request the server to send over a new figure.\n",
       "    fig.send_draw_message();\n",
       "}\n",
       "\n",
       "mpl.figure.prototype.handle_image_mode = function(fig, msg) {\n",
       "    fig.image_mode = msg['mode'];\n",
       "}\n",
       "\n",
       "mpl.figure.prototype.updated_canvas_event = function() {\n",
       "    // Called whenever the canvas gets updated.\n",
       "    this.send_message(\"ack\", {});\n",
       "}\n",
       "\n",
       "// A function to construct a web socket function for onmessage handling.\n",
       "// Called in the figure constructor.\n",
       "mpl.figure.prototype._make_on_message_function = function(fig) {\n",
       "    return function socket_on_message(evt) {\n",
       "        if (evt.data instanceof Blob) {\n",
       "            /* FIXME: We get \"Resource interpreted as Image but\n",
       "             * transferred with MIME type text/plain:\" errors on\n",
       "             * Chrome.  But how to set the MIME type?  It doesn't seem\n",
       "             * to be part of the websocket stream */\n",
       "            evt.data.type = \"image/png\";\n",
       "\n",
       "            /* Free the memory for the previous frames */\n",
       "            if (fig.imageObj.src) {\n",
       "                (window.URL || window.webkitURL).revokeObjectURL(\n",
       "                    fig.imageObj.src);\n",
       "            }\n",
       "\n",
       "            fig.imageObj.src = (window.URL || window.webkitURL).createObjectURL(\n",
       "                evt.data);\n",
       "            fig.updated_canvas_event();\n",
       "            fig.waiting = false;\n",
       "            return;\n",
       "        }\n",
       "        else if (typeof evt.data === 'string' && evt.data.slice(0, 21) == \"data:image/png;base64\") {\n",
       "            fig.imageObj.src = evt.data;\n",
       "            fig.updated_canvas_event();\n",
       "            fig.waiting = false;\n",
       "            return;\n",
       "        }\n",
       "\n",
       "        var msg = JSON.parse(evt.data);\n",
       "        var msg_type = msg['type'];\n",
       "\n",
       "        // Call the  \"handle_{type}\" callback, which takes\n",
       "        // the figure and JSON message as its only arguments.\n",
       "        try {\n",
       "            var callback = fig[\"handle_\" + msg_type];\n",
       "        } catch (e) {\n",
       "            console.log(\"No handler for the '\" + msg_type + \"' message type: \", msg);\n",
       "            return;\n",
       "        }\n",
       "\n",
       "        if (callback) {\n",
       "            try {\n",
       "                // console.log(\"Handling '\" + msg_type + \"' message: \", msg);\n",
       "                callback(fig, msg);\n",
       "            } catch (e) {\n",
       "                console.log(\"Exception inside the 'handler_\" + msg_type + \"' callback:\", e, e.stack, msg);\n",
       "            }\n",
       "        }\n",
       "    };\n",
       "}\n",
       "\n",
       "// from http://stackoverflow.com/questions/1114465/getting-mouse-location-in-canvas\n",
       "mpl.findpos = function(e) {\n",
       "    //this section is from http://www.quirksmode.org/js/events_properties.html\n",
       "    var targ;\n",
       "    if (!e)\n",
       "        e = window.event;\n",
       "    if (e.target)\n",
       "        targ = e.target;\n",
       "    else if (e.srcElement)\n",
       "        targ = e.srcElement;\n",
       "    if (targ.nodeType == 3) // defeat Safari bug\n",
       "        targ = targ.parentNode;\n",
       "\n",
       "    // jQuery normalizes the pageX and pageY\n",
       "    // pageX,Y are the mouse positions relative to the document\n",
       "    // offset() returns the position of the element relative to the document\n",
       "    var x = e.pageX - $(targ).offset().left;\n",
       "    var y = e.pageY - $(targ).offset().top;\n",
       "\n",
       "    return {\"x\": x, \"y\": y};\n",
       "};\n",
       "\n",
       "/*\n",
       " * return a copy of an object with only non-object keys\n",
       " * we need this to avoid circular references\n",
       " * http://stackoverflow.com/a/24161582/3208463\n",
       " */\n",
       "function simpleKeys (original) {\n",
       "  return Object.keys(original).reduce(function (obj, key) {\n",
       "    if (typeof original[key] !== 'object')\n",
       "        obj[key] = original[key]\n",
       "    return obj;\n",
       "  }, {});\n",
       "}\n",
       "\n",
       "mpl.figure.prototype.mouse_event = function(event, name) {\n",
       "    var canvas_pos = mpl.findpos(event)\n",
       "\n",
       "    if (name === 'button_press')\n",
       "    {\n",
       "        this.canvas.focus();\n",
       "        this.canvas_div.focus();\n",
       "    }\n",
       "\n",
       "    var x = canvas_pos.x * mpl.ratio;\n",
       "    var y = canvas_pos.y * mpl.ratio;\n",
       "\n",
       "    this.send_message(name, {x: x, y: y, button: event.button,\n",
       "                             step: event.step,\n",
       "                             guiEvent: simpleKeys(event)});\n",
       "\n",
       "    /* This prevents the web browser from automatically changing to\n",
       "     * the text insertion cursor when the button is pressed.  We want\n",
       "     * to control all of the cursor setting manually through the\n",
       "     * 'cursor' event from matplotlib */\n",
       "    event.preventDefault();\n",
       "    return false;\n",
       "}\n",
       "\n",
       "mpl.figure.prototype._key_event_extra = function(event, name) {\n",
       "    // Handle any extra behaviour associated with a key event\n",
       "}\n",
       "\n",
       "mpl.figure.prototype.key_event = function(event, name) {\n",
       "\n",
       "    // Prevent repeat events\n",
       "    if (name == 'key_press')\n",
       "    {\n",
       "        if (event.which === this._key)\n",
       "            return;\n",
       "        else\n",
       "            this._key = event.which;\n",
       "    }\n",
       "    if (name == 'key_release')\n",
       "        this._key = null;\n",
       "\n",
       "    var value = '';\n",
       "    if (event.ctrlKey && event.which != 17)\n",
       "        value += \"ctrl+\";\n",
       "    if (event.altKey && event.which != 18)\n",
       "        value += \"alt+\";\n",
       "    if (event.shiftKey && event.which != 16)\n",
       "        value += \"shift+\";\n",
       "\n",
       "    value += 'k';\n",
       "    value += event.which.toString();\n",
       "\n",
       "    this._key_event_extra(event, name);\n",
       "\n",
       "    this.send_message(name, {key: value,\n",
       "                             guiEvent: simpleKeys(event)});\n",
       "    return false;\n",
       "}\n",
       "\n",
       "mpl.figure.prototype.toolbar_button_onclick = function(name) {\n",
       "    if (name == 'download') {\n",
       "        this.handle_save(this, null);\n",
       "    } else {\n",
       "        this.send_message(\"toolbar_button\", {name: name});\n",
       "    }\n",
       "};\n",
       "\n",
       "mpl.figure.prototype.toolbar_button_onmouseover = function(tooltip) {\n",
       "    this.message.textContent = tooltip;\n",
       "};\n",
       "mpl.toolbar_items = [[\"Home\", \"Reset original view\", \"fa fa-home icon-home\", \"home\"], [\"Back\", \"Back to previous view\", \"fa fa-arrow-left icon-arrow-left\", \"back\"], [\"Forward\", \"Forward to next view\", \"fa fa-arrow-right icon-arrow-right\", \"forward\"], [\"\", \"\", \"\", \"\"], [\"Pan\", \"Pan axes with left mouse, zoom with right\", \"fa fa-arrows icon-move\", \"pan\"], [\"Zoom\", \"Zoom to rectangle\", \"fa fa-square-o icon-check-empty\", \"zoom\"], [\"\", \"\", \"\", \"\"], [\"Download\", \"Download plot\", \"fa fa-floppy-o icon-save\", \"download\"]];\n",
       "\n",
       "mpl.extensions = [\"eps\", \"jpeg\", \"pdf\", \"png\", \"ps\", \"raw\", \"svg\", \"tif\"];\n",
       "\n",
       "mpl.default_extension = \"png\";var comm_websocket_adapter = function(comm) {\n",
       "    // Create a \"websocket\"-like object which calls the given IPython comm\n",
       "    // object with the appropriate methods. Currently this is a non binary\n",
       "    // socket, so there is still some room for performance tuning.\n",
       "    var ws = {};\n",
       "\n",
       "    ws.close = function() {\n",
       "        comm.close()\n",
       "    };\n",
       "    ws.send = function(m) {\n",
       "        //console.log('sending', m);\n",
       "        comm.send(m);\n",
       "    };\n",
       "    // Register the callback with on_msg.\n",
       "    comm.on_msg(function(msg) {\n",
       "        //console.log('receiving', msg['content']['data'], msg);\n",
       "        // Pass the mpl event to the overridden (by mpl) onmessage function.\n",
       "        ws.onmessage(msg['content']['data'])\n",
       "    });\n",
       "    return ws;\n",
       "}\n",
       "\n",
       "mpl.mpl_figure_comm = function(comm, msg) {\n",
       "    // This is the function which gets called when the mpl process\n",
       "    // starts-up an IPython Comm through the \"matplotlib\" channel.\n",
       "\n",
       "    var id = msg.content.data.id;\n",
       "    // Get hold of the div created by the display call when the Comm\n",
       "    // socket was opened in Python.\n",
       "    var element = $(\"#\" + id);\n",
       "    var ws_proxy = comm_websocket_adapter(comm)\n",
       "\n",
       "    function ondownload(figure, format) {\n",
       "        window.open(figure.imageObj.src);\n",
       "    }\n",
       "\n",
       "    var fig = new mpl.figure(id, ws_proxy,\n",
       "                           ondownload,\n",
       "                           element.get(0));\n",
       "\n",
       "    // Call onopen now - mpl needs it, as it is assuming we've passed it a real\n",
       "    // web socket which is closed, not our websocket->open comm proxy.\n",
       "    ws_proxy.onopen();\n",
       "\n",
       "    fig.parent_element = element.get(0);\n",
       "    fig.cell_info = mpl.find_output_cell(\"<div id='\" + id + \"'></div>\");\n",
       "    if (!fig.cell_info) {\n",
       "        console.error(\"Failed to find cell for figure\", id, fig);\n",
       "        return;\n",
       "    }\n",
       "\n",
       "    var output_index = fig.cell_info[2]\n",
       "    var cell = fig.cell_info[0];\n",
       "\n",
       "};\n",
       "\n",
       "mpl.figure.prototype.handle_close = function(fig, msg) {\n",
       "    var width = fig.canvas.width/mpl.ratio\n",
       "    fig.root.unbind('remove')\n",
       "\n",
       "    // Update the output cell to use the data from the current canvas.\n",
       "    fig.push_to_output();\n",
       "    var dataURL = fig.canvas.toDataURL();\n",
       "    // Re-enable the keyboard manager in IPython - without this line, in FF,\n",
       "    // the notebook keyboard shortcuts fail.\n",
       "    IPython.keyboard_manager.enable()\n",
       "    $(fig.parent_element).html('<img src=\"' + dataURL + '\" width=\"' + width + '\">');\n",
       "    fig.close_ws(fig, msg);\n",
       "}\n",
       "\n",
       "mpl.figure.prototype.close_ws = function(fig, msg){\n",
       "    fig.send_message('closing', msg);\n",
       "    // fig.ws.close()\n",
       "}\n",
       "\n",
       "mpl.figure.prototype.push_to_output = function(remove_interactive) {\n",
       "    // Turn the data on the canvas into data in the output cell.\n",
       "    var width = this.canvas.width/mpl.ratio\n",
       "    var dataURL = this.canvas.toDataURL();\n",
       "    this.cell_info[1]['text/html'] = '<img src=\"' + dataURL + '\" width=\"' + width + '\">';\n",
       "}\n",
       "\n",
       "mpl.figure.prototype.updated_canvas_event = function() {\n",
       "    // Tell IPython that the notebook contents must change.\n",
       "    IPython.notebook.set_dirty(true);\n",
       "    this.send_message(\"ack\", {});\n",
       "    var fig = this;\n",
       "    // Wait a second, then push the new image to the DOM so\n",
       "    // that it is saved nicely (might be nice to debounce this).\n",
       "    setTimeout(function () { fig.push_to_output() }, 1000);\n",
       "}\n",
       "\n",
       "mpl.figure.prototype._init_toolbar = function() {\n",
       "    var fig = this;\n",
       "\n",
       "    var nav_element = $('<div/>');\n",
       "    nav_element.attr('style', 'width: 100%');\n",
       "    this.root.append(nav_element);\n",
       "\n",
       "    // Define a callback function for later on.\n",
       "    function toolbar_event(event) {\n",
       "        return fig.toolbar_button_onclick(event['data']);\n",
       "    }\n",
       "    function toolbar_mouse_event(event) {\n",
       "        return fig.toolbar_button_onmouseover(event['data']);\n",
       "    }\n",
       "\n",
       "    for(var toolbar_ind in mpl.toolbar_items){\n",
       "        var name = mpl.toolbar_items[toolbar_ind][0];\n",
       "        var tooltip = mpl.toolbar_items[toolbar_ind][1];\n",
       "        var image = mpl.toolbar_items[toolbar_ind][2];\n",
       "        var method_name = mpl.toolbar_items[toolbar_ind][3];\n",
       "\n",
       "        if (!name) { continue; };\n",
       "\n",
       "        var button = $('<button class=\"btn btn-default\" href=\"#\" title=\"' + name + '\"><i class=\"fa ' + image + ' fa-lg\"></i></button>');\n",
       "        button.click(method_name, toolbar_event);\n",
       "        button.mouseover(tooltip, toolbar_mouse_event);\n",
       "        nav_element.append(button);\n",
       "    }\n",
       "\n",
       "    // Add the status bar.\n",
       "    var status_bar = $('<span class=\"mpl-message\" style=\"text-align:right; float: right;\"/>');\n",
       "    nav_element.append(status_bar);\n",
       "    this.message = status_bar[0];\n",
       "\n",
       "    // Add the close button to the window.\n",
       "    var buttongrp = $('<div class=\"btn-group inline pull-right\"></div>');\n",
       "    var button = $('<button class=\"btn btn-mini btn-primary\" href=\"#\" title=\"Stop Interaction\"><i class=\"fa fa-power-off icon-remove icon-large\"></i></button>');\n",
       "    button.click(function (evt) { fig.handle_close(fig, {}); } );\n",
       "    button.mouseover('Stop Interaction', toolbar_mouse_event);\n",
       "    buttongrp.append(button);\n",
       "    var titlebar = this.root.find($('.ui-dialog-titlebar'));\n",
       "    titlebar.prepend(buttongrp);\n",
       "}\n",
       "\n",
       "mpl.figure.prototype._root_extra_style = function(el){\n",
       "    var fig = this\n",
       "    el.on(\"remove\", function(){\n",
       "\tfig.close_ws(fig, {});\n",
       "    });\n",
       "}\n",
       "\n",
       "mpl.figure.prototype._canvas_extra_style = function(el){\n",
       "    // this is important to make the div 'focusable\n",
       "    el.attr('tabindex', 0)\n",
       "    // reach out to IPython and tell the keyboard manager to turn it's self\n",
       "    // off when our div gets focus\n",
       "\n",
       "    // location in version 3\n",
       "    if (IPython.notebook.keyboard_manager) {\n",
       "        IPython.notebook.keyboard_manager.register_events(el);\n",
       "    }\n",
       "    else {\n",
       "        // location in version 2\n",
       "        IPython.keyboard_manager.register_events(el);\n",
       "    }\n",
       "\n",
       "}\n",
       "\n",
       "mpl.figure.prototype._key_event_extra = function(event, name) {\n",
       "    var manager = IPython.notebook.keyboard_manager;\n",
       "    if (!manager)\n",
       "        manager = IPython.keyboard_manager;\n",
       "\n",
       "    // Check for shift+enter\n",
       "    if (event.shiftKey && event.which == 13) {\n",
       "        this.canvas_div.blur();\n",
       "        event.shiftKey = false;\n",
       "        // Send a \"J\" for go to next cell\n",
       "        event.which = 74;\n",
       "        event.keyCode = 74;\n",
       "        manager.command_mode();\n",
       "        manager.handle_keydown(event);\n",
       "    }\n",
       "}\n",
       "\n",
       "mpl.figure.prototype.handle_save = function(fig, msg) {\n",
       "    fig.ondownload(fig, null);\n",
       "}\n",
       "\n",
       "\n",
       "mpl.find_output_cell = function(html_output) {\n",
       "    // Return the cell and output element which can be found *uniquely* in the notebook.\n",
       "    // Note - this is a bit hacky, but it is done because the \"notebook_saving.Notebook\"\n",
       "    // IPython event is triggered only after the cells have been serialised, which for\n",
       "    // our purposes (turning an active figure into a static one), is too late.\n",
       "    var cells = IPython.notebook.get_cells();\n",
       "    var ncells = cells.length;\n",
       "    for (var i=0; i<ncells; i++) {\n",
       "        var cell = cells[i];\n",
       "        if (cell.cell_type === 'code'){\n",
       "            for (var j=0; j<cell.output_area.outputs.length; j++) {\n",
       "                var data = cell.output_area.outputs[j];\n",
       "                if (data.data) {\n",
       "                    // IPython >= 3 moved mimebundle to data attribute of output\n",
       "                    data = data.data;\n",
       "                }\n",
       "                if (data['text/html'] == html_output) {\n",
       "                    return [cell, data, j];\n",
       "                }\n",
       "            }\n",
       "        }\n",
       "    }\n",
       "}\n",
       "\n",
       "// Register the function which deals with the matplotlib target/channel.\n",
       "// The kernel may be null if the page has been refreshed.\n",
       "if (IPython.notebook.kernel != null) {\n",
       "    IPython.notebook.kernel.comm_manager.register_target('matplotlib', mpl.mpl_figure_comm);\n",
       "}\n"
      ],
      "text/plain": [
       "<IPython.core.display.Javascript object>"
      ]
     },
     "metadata": {},
     "output_type": "display_data"
    },
    {
     "data": {
      "text/html": [
       "<img src=\"data:image/png;base64,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\" width=\"999.9999783255842\">"
      ],
      "text/plain": [
       "<IPython.core.display.HTML object>"
      ]
     },
     "metadata": {},
     "output_type": "display_data"
    }
   ],
   "source": [
    "save_graph = True\n",
    "\n",
    "plt.plot(vna.get_frequencies(), 20*log10(abs(vna.get_sdata())))\n",
    "# plt.plot(vna.get_frequencies(), unwrap(angle(vna.get_sdata())))\n",
    "\n",
    "for scan_area in scan_areas:\n",
    "    plt.plot(scan_area, ones(2)*min(20*log10(abs(vna.get_sdata()))), marker=\"+\")\n",
    "        \n",
    "# plt.xlim(scan_areas[1]) # the x-axis limits may are set to a certain scan area to check whether it was guessed correctly\n",
    "plt.ylim(min(20*log10(abs(vna.get_sdata())))-5,max(20*log10(abs(vna.get_sdata())))+5)\n",
    "# plt.xlim(5.0e9, 8.0e9)\n",
    "plt.minorticks_on()\n",
    "plt.grid(which=\"both\")\n",
    "plt.gcf().set_size_inches(10, 3)\n",
    "\n",
    "# Here the first datafile is created. It is placed in a folder with current date which is also created below.\n",
    "\n",
    "if save_graph:\n",
    "    try:\n",
    "        os.mkdir(\"./data/\"+str(datetime.datetime.now().date()))\n",
    "    except FileExistsError:\n",
    "        pass\n",
    "    with open(\"./data/\"+str(datetime.datetime.now().date())+\"/\"+sample_name+\".pkl\", \"wb\") as f:\n",
    "        pickle.dump((vna.get_frequencies(), vna.get_sdata()), f)\n",
    "        \n",
    "    plt.savefig(\"./data/\"+str(datetime.datetime.now().date())+\"/\"+sample_name+'.pdf')    \n",
    "    plt.savefig(\"./data/\"+str(datetime.datetime.now().date())+\"/\"+sample_name+'.png')         "
   ]
  },
  {
   "cell_type": "markdown",
   "metadata": {},
   "source": [
    "# Recording a zoomed scan inside each scan area at each power"
   ]
  },
  {
   "cell_type": "code",
   "execution_count": 49,
   "metadata": {},
   "outputs": [],
   "source": [
    "power_scans = {}\n",
    "vna.set_nop(1001)\n",
    "vna.set_bandwidth(1000)\n",
    "powers = linspace(-30, 0, 31) # the powers we are using to scan through"
   ]
  },
  {
   "cell_type": "markdown",
   "metadata": {},
   "source": [
    "First we make noise calibration to make sure we will not perform redundant averaging:"
   ]
  },
  {
   "cell_type": "code",
   "execution_count": 50,
   "metadata": {},
   "outputs": [],
   "source": [
    "def theory_noise_amps_pow(power, exponent, max_noise):\n",
    "    return max_noise*exp(-power*exponent)\n",
    "# def theory_noise_amps_avg(average, max_noise):\n",
    "#     return max_noise/sqrt(average)\n",
    "def calibrate_noise(scan_area, powers):\n",
    "    noises = []\n",
    "    powers = powers[::]\n",
    "    vna.set_center(mean(scan_area)+10e6)\n",
    "    vna.set_span(1)\n",
    "    vna.set_averages(1)\n",
    "    for power in powers:\n",
    "        vna.set_power(power)\n",
    "        vna.prepare_for_stb()\n",
    "        vna.sweep_single()\n",
    "        vna.wait_for_stb()\n",
    "        noises.append(vna.get_sdata())\n",
    "        print(\"\\rPower:\", power, end=\"\")\n",
    "    noise_amps = [sqrt(mean((abs(noise) - mean(abs(noise)))**2))/mean(abs(noise)) for noise in noises] \n",
    "    opt_params = curve_fit(theory_noise_amps_pow, powers, noise_amps, p0=(0.01,0.1))[0]\n",
    "    return opt_params, noise_amps"
   ]
  },
  {
   "cell_type": "code",
   "execution_count": 51,
   "metadata": {},
   "outputs": [
    {
     "name": "stdout",
     "output_type": "stream",
     "text": [
      "Power: 0.000"
     ]
    }
   ],
   "source": [
    "opt_params, noise_amps = calibrate_noise(scan_areas[0], powers[5::5])"
   ]
  },
  {
   "cell_type": "code",
   "execution_count": 64,
   "metadata": {},
   "outputs": [
    {
     "data": {
      "text/plain": [
       "[<matplotlib.lines.Line2D at 0x23a15495ba8>]"
      ]
     },
     "execution_count": 64,
     "metadata": {},
     "output_type": "execute_result"
    }
   ],
   "source": [
    "plot(theory_noise_amps_pow(powers[5::5], *opt_params))\n",
    "plot(noise_amps, '--o')"
   ]
  },
  {
   "cell_type": "code",
   "execution_count": 32,
   "metadata": {},
   "outputs": [],
   "source": [
    "vna.sweep_hold() #если лазил руками в VNA"
   ]
  },
  {
   "cell_type": "code",
   "execution_count": 52,
   "metadata": {
    "scrolled": false
   },
   "outputs": [
    {
     "name": "stdout",
     "output_type": "stream",
     "text": [
      "Started at: 2019-05-17 17:51:53.740568\n",
      "[-30. -29. -28. -27. -26.]\n",
      "(6830200000.0, 6880200000.0) avg: 1.0 power:0.0   Done!\n",
      "(7320400000.0, 7370400000.0) avg: 1.0 power:0.0    Done!\n",
      "(7688000000.0, 7738000000.0) avg: 1.0 power:0.0    Done!\n",
      "(7786200000.0, 7836200000.0) avg: 1.0 power:0.0    Done!\n"
     ]
    }
   ],
   "source": [
    "time_start = datetime.datetime.now()\n",
    "print(\"Started at:\", time_start)\n",
    "\n",
    "print(powers[:5]) # to check the powers are nice whole numbers\n",
    "\n",
    "# Beginning the scan here             \n",
    "for scan_area in scan_areas[:]:\n",
    "    S21s = []\n",
    "    \n",
    "    opt_params, noise_amps = calibrate_noise(scan_area, powers[5::10])\n",
    "    averages_arr = around(500*theory_noise_amps_pow(powers, *opt_params)**2)\n",
    "    averages_arr[averages_arr==0]=1\n",
    "    vna.set_xlim(*scan_area)\n",
    "    \n",
    "    for power, averages in zip(powers, averages_arr):\n",
    "        vna.set_power(power)\n",
    "        vna.set_averages(averages)\n",
    "        print(\"\\r\"+str(scan_area), \"avg: \"+str(averages), \"power:\"+str(power), end=\" \", flush=True)\n",
    "        \n",
    "        vna.prepare_for_stb()\n",
    "        vna.sweep_single()\n",
    "        vna.wait_for_stb()\n",
    "        \n",
    "        vna.autoscale_all()\n",
    "        S21s.append((vna.get_frequencies(), vna.get_sdata()))\n",
    "    power_scans[scan_area] = S21s\n",
    "    print(\"Done!\")\n",
    "with open(\"./data/\"\n",
    "          +str(time_start.date())\\\n",
    "          +\"/\"+sample_name+\"_resonators_on_power.pkl\", \"wb\") as f:\n",
    "    pickle.dump((scan_areas, powers, power_scans), f)"
   ]
  },
  {
   "cell_type": "markdown",
   "metadata": {},
   "source": [
    "## Dependence from bandwidth"
   ]
  },
  {
   "cell_type": "code",
   "execution_count": 66,
   "metadata": {},
   "outputs": [],
   "source": [
    "scan_area = scan_areas[-1]\n",
    "bw_list = [1e4,1e3,1e2,1e1]\n",
    "powers = linspace(-40,0,11)"
   ]
  },
  {
   "cell_type": "code",
   "execution_count": 67,
   "metadata": {
    "scrolled": false
   },
   "outputs": [
    {
     "name": "stdout",
     "output_type": "stream",
     "text": [
      "Started at: 2019-01-16 17:23:33.577294\n",
      "[-40. -36. -32. -28. -24.]\n",
      "(8424000000.0, 8474000000.0) avg: 1.0 power:0.0    Done!\n",
      "(8424000000.0, 8474000000.0) avg: 1.0 power:0.0    Done!\n",
      "(8424000000.0, 8474000000.0) avg: 1.0 power:0.0    Done!\n",
      "(8424000000.0, 8474000000.0) avg: 1.0 power:0.0   Done!\n"
     ]
    }
   ],
   "source": [
    "time_start = datetime.datetime.now()\n",
    "print(\"Started at:\", time_start)\n",
    "\n",
    "print(powers[:5]) # to check the powers are nice whole numbers\n",
    "\n",
    "# Beginning the scan here             \n",
    "for bw in bw_list:\n",
    "    \n",
    "    S21s = []\n",
    "    vna.set_bandwidth(bw)\n",
    "    opt_params, noise_amps = calibrate_noise(scan_area, powers[2::3])\n",
    "    averages_arr = around(50*theory_noise_amps_pow(powers, *opt_params)**2)\n",
    "    averages_arr[averages_arr==0]=1\n",
    "    vna.set_xlim(*scan_area)\n",
    "    \n",
    "    for power, averages in zip(powers, averages_arr):\n",
    "        vna.set_power(power)\n",
    "        \n",
    "        vna.set_averages(averages)\n",
    "        print(\"\\r\"+str(scan_area), \"avg: \"+str(averages), \"power:\"+str(power), end=\" \", flush=True)\n",
    "        \n",
    "        vna.prepare_for_stb()\n",
    "        vna.sweep_single()\n",
    "        vna.wait_for_stb()\n",
    "        \n",
    "        vna.autoscale_all()\n",
    "        S21s.append((vna.get_frequencies(), vna.get_sdata()))\n",
    "    power_scans[bw] = S21s\n",
    "    print(\"Done!\")\n",
    "with open(\"./data/\"\n",
    "          +str(time_start.date())\\\n",
    "          +\"/\"+sample_name+\"TII_resonator_on_bw.pkl\", \"wb\") as f:\n",
    "    pickle.dump((scan_areas, powers, bw_list, power_scans), f)"
   ]
  },
  {
   "cell_type": "code",
   "execution_count": null,
   "metadata": {
    "collapsed": true
   },
   "outputs": [],
   "source": []
  },
  {
   "cell_type": "code",
   "execution_count": 57,
   "metadata": {
    "collapsed": true
   },
   "outputs": [],
   "source": [
    "#with open(\"./data/\"\\\n",
    "#          +str(time_start.date())\\\n",
    "#          +\"/\"+sample_name+\"_resonators_on_power.pkl\", \"wb\") as f:\n",
    "#    pickle.dump((scan_areas, powers, power_scans), f)"
   ]
  },
  {
   "cell_type": "code",
   "execution_count": 26,
   "metadata": {},
   "outputs": [
    {
     "data": {
      "image/png": "[encoded data removed]",
      "text/plain": [
       "<matplotlib.figure.Figure at 0x29992469c50>"
      ]
     },
     "metadata": {},
     "output_type": "display_data"
    }
   ],
   "source": [
    "scan_area = scan_areas[7]\n",
    "plt.plot(power_scans[scan_area][0][0], 20*log10(abs(power_scans[scan_area][0][1])))\n",
    "plt.plot(power_scans[scan_area][-1][0], 20*log10(abs(power_scans[scan_area][-1][1])))\n",
    "plt.gcf().set_size_inches(13,5)"
   ]
  },
  {
   "cell_type": "markdown",
   "metadata": {},
   "source": [
    "До сих пор"
   ]
  },
  {
   "cell_type": "code",
   "execution_count": null,
   "metadata": {
    "collapsed": true
   },
   "outputs": [],
   "source": []
  },
  {
   "cell_type": "code",
   "execution_count": null,
   "metadata": {
    "collapsed": true
   },
   "outputs": [],
   "source": []
  },
  {
   "cell_type": "code",
   "execution_count": null,
   "metadata": {
    "collapsed": true
   },
   "outputs": [],
   "source": [
    "vna.set_xlim(*scan_areas[1])"
   ]
  },
  {
   "cell_type": "markdown",
   "metadata": {},
   "source": [
    "##  Noise calibration"
   ]
  },
  {
   "cell_type": "code",
   "execution_count": null,
   "metadata": {
    "collapsed": true
   },
   "outputs": [],
   "source": [
    "peak_vicinity = mean(scan_areas[0])+linspace(-1, 1, 2)"
   ]
  },
  {
   "cell_type": "code",
   "execution_count": null,
   "metadata": {
    "collapsed": true
   },
   "outputs": [],
   "source": [
    "power_scans = {}\n",
    "vna.set_nop(1000)\n",
    "vna.set_bandwidth(500)\n",
    "vna.set_averages(1)"
   ]
  },
  {
   "cell_type": "code",
   "execution_count": null,
   "metadata": {
    "collapsed": true
   },
   "outputs": [],
   "source": [
    "powers = linspace(-60, -30, 31)"
   ]
  },
  {
   "cell_type": "code",
   "execution_count": null,
   "metadata": {
    "collapsed": true
   },
   "outputs": [],
   "source": [
    "noises_pow = []\n",
    "vna.set_xlim(*peak_vicinity)\n",
    "    \n",
    "for power in powers:\n",
    "    vna.set_power(power)\n",
    "    vna.prepare_for_stb()\n",
    "    vna.sweep_single()\n",
    "    vna.wait_for_stb()\n",
    "    noises_pow.append(vna.get_sdata())\n",
    "    print(\"\\rPower:\", power, end=\"\")"
   ]
  },
  {
   "cell_type": "code",
   "execution_count": null,
   "metadata": {
    "collapsed": true
   },
   "outputs": [],
   "source": [
    "noise_amps = [sqrt(sum(abs(noise - mean(noise))**2)) for noise in noises_pow] \n",
    "opt_params = curve_fit(theory_noise_amps_pow, powers, noise_amps, p0=(0.01,0.6))[0]"
   ]
  },
  {
   "cell_type": "code",
   "execution_count": null,
   "metadata": {
    "collapsed": true
   },
   "outputs": [],
   "source": [
    "opt_params"
   ]
  },
  {
   "cell_type": "code",
   "execution_count": null,
   "metadata": {
    "collapsed": true
   },
   "outputs": [],
   "source": [
    "plt.plot(powers, noise_amps)\n",
    "plt.plot(powers, theory_noise_amps_pow(powers, *opt_params))"
   ]
  },
  {
   "cell_type": "code",
   "execution_count": null,
   "metadata": {
    "collapsed": true
   },
   "outputs": [],
   "source": [
    "averages = linspace(1, 50, 50)"
   ]
  },
  {
   "cell_type": "code",
   "execution_count": null,
   "metadata": {
    "collapsed": true
   },
   "outputs": [],
   "source": [
    "noises = []\n",
    "vna.set_xlim(*peak_vicinity)\n",
    "vna.set_power(-60)\n",
    "for average in averages:\n",
    "    vna.set_averages(average)\n",
    "    vna.prepare_for_stb()\n",
    "    vna.sweep_single()\n",
    "    vna.wait_for_stb()\n",
    "    noises.append(vna.get_sdata())\n",
    "    print(\"\\rAverage:\", average, end=\"\")"
   ]
  },
  {
   "cell_type": "code",
   "execution_count": null,
   "metadata": {
    "collapsed": true
   },
   "outputs": [],
   "source": [
    "noise_amps = [sqrt(sum(abs(noise - mean(noise))**2)) for noise in noises] "
   ]
  },
  {
   "cell_type": "code",
   "execution_count": null,
   "metadata": {
    "collapsed": true
   },
   "outputs": [],
   "source": [
    "opt_params = curve_fit(theory_noise_amps_avg, averages[:25], noise_amps, p0=(1))[0]"
   ]
  },
  {
   "cell_type": "code",
   "execution_count": null,
   "metadata": {
    "collapsed": true
   },
   "outputs": [],
   "source": [
    "plt.plot(averages[:25], noise_amps)\n",
    "plt.plot(averages[:25], theory_noise_amps_avg(averages[:25], *opt_params))"
   ]
  },
  {
   "cell_type": "code",
   "execution_count": null,
   "metadata": {
    "collapsed": true
   },
   "outputs": [],
   "source": [
    "X = linspace(1, 25)\n",
    "Y_pow = exp(-X)\n",
    "Y_avg = 1/sqrt(X)"
   ]
  },
  {
   "cell_type": "code",
   "execution_count": null,
   "metadata": {
    "collapsed": true
   },
   "outputs": [],
   "source": [
    "plt.plot(X, Y_pow, X, Y_avg)"
   ]
  },
  {
   "cell_type": "code",
   "execution_count": null,
   "metadata": {
    "collapsed": true
   },
   "outputs": [],
   "source": [
    "mxg"
   ]
  },
  {
   "cell_type": "code",
   "execution_count": null,
   "metadata": {
    "collapsed": true
   },
   "outputs": [],
   "source": [
    "from importlib import reload"
   ]
  },
  {
   "cell_type": "code",
   "execution_count": null,
   "metadata": {
    "collapsed": true
   },
   "outputs": [],
   "source": [
    "reload(Measurement_AD_1)"
   ]
  },
  {
   "cell_type": "code",
   "execution_count": null,
   "metadata": {
    "collapsed": true
   },
   "outputs": [],
   "source": [
    "import Measurement_AD_1"
   ]
  },
  {
   "cell_type": "code",
   "execution_count": null,
   "metadata": {
    "collapsed": true
   },
   "outputs": [],
   "source": [
    "from Measurement_AD_1 import *\n"
   ]
  },
  {
   "cell_type": "code",
   "execution_count": null,
   "metadata": {
    "collapsed": true
   },
   "outputs": [],
   "source": [
    "meas = Measurement(['exa'])"
   ]
  },
  {
   "cell_type": "code",
   "execution_count": null,
   "metadata": {
    "collapsed": true
   },
   "outputs": [],
   "source": [
    "meas._exa"
   ]
  },
  {
   "cell_type": "code",
   "execution_count": null,
   "metadata": {
    "collapsed": true
   },
   "outputs": [],
   "source": [
    "meas._exa"
   ]
  },
  {
   "cell_type": "code",
   "execution_count": null,
   "metadata": {
    "collapsed": true
   },
   "outputs": [],
   "source": []
  }
 ],
 "metadata": {
  "anaconda-cloud": {},
  "kernelspec": {
   "display_name": "Python 3",
   "language": "python",
   "name": "python3"
  },
  "language_info": {
   "codemirror_mode": {
    "name": "ipython",
    "version": 3
   },
   "file_extension": ".py",
   "mimetype": "text/x-python",
   "name": "python",
   "nbconvert_exporter": "python",
   "pygments_lexer": "ipython3",
   "version": "3.7.1"
  },
  "toc": {
   "base_numbering": 1,
   "nav_menu": {},
   "number_sections": true,
   "sideBar": true,
   "skip_h1_title": false,
   "title_cell": "Table of Contents",
   "title_sidebar": "Contents",
   "toc_cell": false,
   "toc_position": {},
   "toc_section_display": true,
   "toc_window_display": true
  }
 },
 "nbformat": 4,
 "nbformat_minor": 1
}
