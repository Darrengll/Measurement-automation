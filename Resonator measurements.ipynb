{
 "cells": [
  {
   "cell_type": "markdown",
   "metadata": {},
   "source": [
    "# Notebook for getting S$_{14}$s of resonators vs "
   ]
  },
  {
   "cell_type": "markdown",
   "metadata": {},
   "source": [
    "Loading libraries requred below:"
   ]
  },
  {
   "cell_type": "code",
   "execution_count": 1,
   "metadata": {},
   "outputs": [
    {
     "name": "stdout",
     "output_type": "stream",
     "text": [
      "Populating the interactive namespace from numpy and matplotlib\n"
     ]
    }
   ],
   "source": [
    "%pylab notebook"
   ]
  },
  {
   "cell_type": "code",
   "execution_count": 2,
   "metadata": {},
   "outputs": [],
   "source": [
    "import time\n",
    "import pickle\n",
    "import sys\n",
    "from scipy.signal import argrelextrema\n",
    "from scipy.optimize import curve_fit\n",
    "import os"
   ]
  },
  {
   "cell_type": "code",
   "execution_count": 3,
   "metadata": {},
   "outputs": [],
   "source": [
    "from drivers.Agilent_PNA_L import *\n",
    "from drivers.znb import *"
   ]
  },
  {
   "cell_type": "markdown",
   "metadata": {},
   "source": [
    "### Setting the name for the sample"
   ]
  },
  {
   "cell_type": "code",
   "execution_count": 4,
   "metadata": {},
   "outputs": [],
   "source": [
    "#sample_name = \"Xmon_2Q_holes(1808_068-3)\" #sample name will be used in the filenames\n",
    "sample_name = \"XMON-1901-016-3\"\n",
    "s_param = \"S14\" # specify where the sample is connected"
   ]
  },
  {
   "cell_type": "markdown",
   "metadata": {},
   "source": [
    "### Getting the general view S$_{21}$ scan of the sample and detect resonator positions"
   ]
  },
  {
   "cell_type": "code",
   "execution_count": 5,
   "metadata": {
    "scrolled": true
   },
   "outputs": [],
   "source": [
    "# vna = Agilent_PNA_L(\"PNA-L2\") # loading the vector network analyser object from the driver\n",
    "vna = Znb(\"ZNB\")"
   ]
  },
  {
   "cell_type": "code",
   "execution_count": 6,
   "metadata": {},
   "outputs": [],
   "source": [
    "vna.select_S_param(s_param)"
   ]
  },
  {
   "cell_type": "code",
   "execution_count": 7,
   "metadata": {},
   "outputs": [],
   "source": [
    "vna.sweep_hold()"
   ]
  },
  {
   "cell_type": "code",
   "execution_count": 8,
   "metadata": {},
   "outputs": [],
   "source": [
    "vna.set_average_mode(\"REDUCE\")"
   ]
  },
  {
   "cell_type": "markdown",
   "metadata": {},
   "source": [
    "Setting the parameters of the scan:"
   ]
  },
  {
   "cell_type": "code",
   "execution_count": 10,
   "metadata": {},
   "outputs": [],
   "source": [
    "vna.set_xlim(4e9, 8e9) # setting the scan area\n",
    "vna.set_bandwidth(1000)\n",
    "vna.set_nop(10001)\n",
    "vna.set_averages(1)\n",
    "vna.set_power(-10)"
   ]
  },
  {
   "cell_type": "code",
   "execution_count": 11,
   "metadata": {},
   "outputs": [],
   "source": [
    "vna.prepare_for_stb()\n",
    "vna.sweep_single() # triggering the sweep\n",
    "vna.wait_for_stb()\n",
    "vna.autoscale_all()"
   ]
  },
  {
   "cell_type": "code",
   "execution_count": 12,
   "metadata": {},
   "outputs": [],
   "source": [
    "def guess_scan_areas(freqs, sdata, area_size, depth):\n",
    "    '''\n",
    "    Function to get the approximate positions of the resonator dips and return small areas around them\n",
    "    Parameters:\n",
    "    -----------\n",
    "        area_size : double\n",
    "        Sets the diams of the returned scan areas (Hz)\n",
    "        \n",
    "        depth : double\n",
    "        Count everything deeper than median transmission depth near a minimum as a resonator dip. \n",
    "        Should be chosen manually each time\n",
    "    Returns:\n",
    "        scan_areas : list\n",
    "        A list of tuples each representing an area in frequency presumably around the resonator dips\n",
    "    '''\n",
    "    freqs, amps = vna.get_frequencies(), 20*log10(abs(vna.get_sdata()))\n",
    "    window = 100\n",
    "    extrema = argrelextrema(amps, np.less, order=window)[0]\n",
    "    deep_minima = []\n",
    "    for extremum in extrema:\n",
    "        mean_transmission = median(amps[extremum-window//2:extremum+window//2])\n",
    "        if amps[extremum]<mean_transmission-depth:\n",
    "            deep_minima.append(freqs[extremum])\n",
    "    return [(m-area_size/2, m+area_size/2) for m in deep_minima]"
   ]
  },
  {
   "cell_type": "code",
   "execution_count": 21,
   "metadata": {},
   "outputs": [
    {
     "data": {
      "text/plain": [
       "([(6492700000.0, 6493700000.0),\n",
       "  (6585100000.0, 6586100000.0),\n",
       "  (6677100000.0, 6678100000.0),\n",
       "  (6866300000.0, 6867300000.0),\n",
       "  (6951900000.0, 6952900000.0),\n",
       "  (7677900000.0, 7678900000.0)],\n",
       " 6)"
      ]
     },
     "execution_count": 21,
     "metadata": {},
     "output_type": "execute_result"
    }
   ],
   "source": [
    "scan_areas = guess_scan_areas(1e6, 0, 1e6, 2)[:]\n",
    "#scan_areas[:10], len(scan_areas)\n",
    "scan_areas, len(scan_areas)"
   ]
  },
  {
   "cell_type": "code",
   "execution_count": 15,
   "metadata": {
    "collapsed": true
   },
   "outputs": [],
   "source": [
    "# manual override for the scan areas, don't use if guessing succeeded\n",
    "# scan_areas = [(8.09e9, 8.096e9),(8357650000.0, 8362650000.0)] \n",
    "# scan_areas.append((7.7e9, 7.8e9))\n",
    "# scan_areas[7] = (7.737e9, 7.741e9)\n",
    "# scan_areas.insert(-1, (7.48e9, 7.488e9))\n",
    "# del scan_areas[-2:]\n",
    "#scan_areas, len(scan_areas)\n",
    "\n",
    "#([(7502280000.0, 7522280000.0),\n",
    "#  (7598880000.0, 7618880000.0),\n",
    "#  (7679520000.0, 7699520000.0),\n",
    "#  (7783120000.0, 7803120000.0),\n",
    "#  (7868520000.0, 7888520000.0),\n",
    "#  (7969880000.0, 7989880000.0),\n",
    "#  (8468280000.0, 8488280000.0),\n",
    "#  (8717200000.0, 8737200000.0)],\n",
    "# 8)"
   ]
  },
  {
   "cell_type": "code",
   "execution_count": 22,
   "metadata": {
    "scrolled": false
   },
   "outputs": [
    {
     "data": {
      "application/javascript": [
       "/* Put everything inside the global mpl namespace */\n",
       "window.mpl = {};\n",
       "\n",
       "\n",
       "mpl.get_websocket_type = function() {\n",
       "    if (typeof(WebSocket) !== 'undefined') {\n",
       "        return WebSocket;\n",
       "    } else if (typeof(MozWebSocket) !== 'undefined') {\n",
       "        return MozWebSocket;\n",
       "    } else {\n",
       "        alert('Your browser does not have WebSocket support. ' +\n",
       "              'Please try Chrome, Safari or Firefox ≥ 6. ' +\n",
       "              'Firefox 4 and 5 are also supported but you ' +\n",
       "              'have to enable WebSockets in about:config.');\n",
       "    };\n",
       "}\n",
       "\n",
       "mpl.figure = function(figure_id, websocket, ondownload, parent_element) {\n",
       "    this.id = figure_id;\n",
       "\n",
       "    this.ws = websocket;\n",
       "\n",
       "    this.supports_binary = (this.ws.binaryType != undefined);\n",
       "\n",
       "    if (!this.supports_binary) {\n",
       "        var warnings = document.getElementById(\"mpl-warnings\");\n",
       "        if (warnings) {\n",
       "            warnings.style.display = 'block';\n",
       "            warnings.textContent = (\n",
       "                \"This browser does not support binary websocket messages. \" +\n",
       "                    \"Performance may be slow.\");\n",
       "        }\n",
       "    }\n",
       "\n",
       "    this.imageObj = new Image();\n",
       "\n",
       "    this.context = undefined;\n",
       "    this.message = undefined;\n",
       "    this.canvas = undefined;\n",
       "    this.rubberband_canvas = undefined;\n",
       "    this.rubberband_context = undefined;\n",
       "    this.format_dropdown = undefined;\n",
       "\n",
       "    this.image_mode = 'full';\n",
       "\n",
       "    this.root = $('<div/>');\n",
       "    this._root_extra_style(this.root)\n",
       "    this.root.attr('style', 'display: inline-block');\n",
       "\n",
       "    $(parent_element).append(this.root);\n",
       "\n",
       "    this._init_header(this);\n",
       "    this._init_canvas(this);\n",
       "    this._init_toolbar(this);\n",
       "\n",
       "    var fig = this;\n",
       "\n",
       "    this.waiting = false;\n",
       "\n",
       "    this.ws.onopen =  function () {\n",
       "            fig.send_message(\"supports_binary\", {value: fig.supports_binary});\n",
       "            fig.send_message(\"send_image_mode\", {});\n",
       "            if (mpl.ratio != 1) {\n",
       "                fig.send_message(\"set_dpi_ratio\", {'dpi_ratio': mpl.ratio});\n",
       "            }\n",
       "            fig.send_message(\"refresh\", {});\n",
       "        }\n",
       "\n",
       "    this.imageObj.onload = function() {\n",
       "            if (fig.image_mode == 'full') {\n",
       "                // Full images could contain transparency (where diff images\n",
       "                // almost always do), so we need to clear the canvas so that\n",
       "                // there is no ghosting.\n",
       "                fig.context.clearRect(0, 0, fig.canvas.width, fig.canvas.height);\n",
       "            }\n",
       "            fig.context.drawImage(fig.imageObj, 0, 0);\n",
       "        };\n",
       "\n",
       "    this.imageObj.onunload = function() {\n",
       "        fig.ws.close();\n",
       "    }\n",
       "\n",
       "    this.ws.onmessage = this._make_on_message_function(this);\n",
       "\n",
       "    this.ondownload = ondownload;\n",
       "}\n",
       "\n",
       "mpl.figure.prototype._init_header = function() {\n",
       "    var titlebar = $(\n",
       "        '<div class=\"ui-dialog-titlebar ui-widget-header ui-corner-all ' +\n",
       "        'ui-helper-clearfix\"/>');\n",
       "    var titletext = $(\n",
       "        '<div class=\"ui-dialog-title\" style=\"width: 100%; ' +\n",
       "        'text-align: center; padding: 3px;\"/>');\n",
       "    titlebar.append(titletext)\n",
       "    this.root.append(titlebar);\n",
       "    this.header = titletext[0];\n",
       "}\n",
       "\n",
       "\n",
       "\n",
       "mpl.figure.prototype._canvas_extra_style = function(canvas_div) {\n",
       "\n",
       "}\n",
       "\n",
       "\n",
       "mpl.figure.prototype._root_extra_style = function(canvas_div) {\n",
       "\n",
       "}\n",
       "\n",
       "mpl.figure.prototype._init_canvas = function() {\n",
       "    var fig = this;\n",
       "\n",
       "    var canvas_div = $('<div/>');\n",
       "\n",
       "    canvas_div.attr('style', 'position: relative; clear: both; outline: 0');\n",
       "\n",
       "    function canvas_keyboard_event(event) {\n",
       "        return fig.key_event(event, event['data']);\n",
       "    }\n",
       "\n",
       "    canvas_div.keydown('key_press', canvas_keyboard_event);\n",
       "    canvas_div.keyup('key_release', canvas_keyboard_event);\n",
       "    this.canvas_div = canvas_div\n",
       "    this._canvas_extra_style(canvas_div)\n",
       "    this.root.append(canvas_div);\n",
       "\n",
       "    var canvas = $('<canvas/>');\n",
       "    canvas.addClass('mpl-canvas');\n",
       "    canvas.attr('style', \"left: 0; top: 0; z-index: 0; outline: 0\")\n",
       "\n",
       "    this.canvas = canvas[0];\n",
       "    this.context = canvas[0].getContext(\"2d\");\n",
       "\n",
       "    var backingStore = this.context.backingStorePixelRatio ||\n",
       "\tthis.context.webkitBackingStorePixelRatio ||\n",
       "\tthis.context.mozBackingStorePixelRatio ||\n",
       "\tthis.context.msBackingStorePixelRatio ||\n",
       "\tthis.context.oBackingStorePixelRatio ||\n",
       "\tthis.context.backingStorePixelRatio || 1;\n",
       "\n",
       "    mpl.ratio = (window.devicePixelRatio || 1) / backingStore;\n",
       "\n",
       "    var rubberband = $('<canvas/>');\n",
       "    rubberband.attr('style', \"position: absolute; left: 0; top: 0; z-index: 1;\")\n",
       "\n",
       "    var pass_mouse_events = true;\n",
       "\n",
       "    canvas_div.resizable({\n",
       "        start: function(event, ui) {\n",
       "            pass_mouse_events = false;\n",
       "        },\n",
       "        resize: function(event, ui) {\n",
       "            fig.request_resize(ui.size.width, ui.size.height);\n",
       "        },\n",
       "        stop: function(event, ui) {\n",
       "            pass_mouse_events = true;\n",
       "            fig.request_resize(ui.size.width, ui.size.height);\n",
       "        },\n",
       "    });\n",
       "\n",
       "    function mouse_event_fn(event) {\n",
       "        if (pass_mouse_events)\n",
       "            return fig.mouse_event(event, event['data']);\n",
       "    }\n",
       "\n",
       "    rubberband.mousedown('button_press', mouse_event_fn);\n",
       "    rubberband.mouseup('button_release', mouse_event_fn);\n",
       "    // Throttle sequential mouse events to 1 every 20ms.\n",
       "    rubberband.mousemove('motion_notify', mouse_event_fn);\n",
       "\n",
       "    rubberband.mouseenter('figure_enter', mouse_event_fn);\n",
       "    rubberband.mouseleave('figure_leave', mouse_event_fn);\n",
       "\n",
       "    canvas_div.on(\"wheel\", function (event) {\n",
       "        event = event.originalEvent;\n",
       "        event['data'] = 'scroll'\n",
       "        if (event.deltaY < 0) {\n",
       "            event.step = 1;\n",
       "        } else {\n",
       "            event.step = -1;\n",
       "        }\n",
       "        mouse_event_fn(event);\n",
       "    });\n",
       "\n",
       "    canvas_div.append(canvas);\n",
       "    canvas_div.append(rubberband);\n",
       "\n",
       "    this.rubberband = rubberband;\n",
       "    this.rubberband_canvas = rubberband[0];\n",
       "    this.rubberband_context = rubberband[0].getContext(\"2d\");\n",
       "    this.rubberband_context.strokeStyle = \"#000000\";\n",
       "\n",
       "    this._resize_canvas = function(width, height) {\n",
       "        // Keep the size of the canvas, canvas container, and rubber band\n",
       "        // canvas in synch.\n",
       "        canvas_div.css('width', width)\n",
       "        canvas_div.css('height', height)\n",
       "\n",
       "        canvas.attr('width', width * mpl.ratio);\n",
       "        canvas.attr('height', height * mpl.ratio);\n",
       "        canvas.attr('style', 'width: ' + width + 'px; height: ' + height + 'px;');\n",
       "\n",
       "        rubberband.attr('width', width);\n",
       "        rubberband.attr('height', height);\n",
       "    }\n",
       "\n",
       "    // Set the figure to an initial 600x600px, this will subsequently be updated\n",
       "    // upon first draw.\n",
       "    this._resize_canvas(600, 600);\n",
       "\n",
       "    // Disable right mouse context menu.\n",
       "    $(this.rubberband_canvas).bind(\"contextmenu\",function(e){\n",
       "        return false;\n",
       "    });\n",
       "\n",
       "    function set_focus () {\n",
       "        canvas.focus();\n",
       "        canvas_div.focus();\n",
       "    }\n",
       "\n",
       "    window.setTimeout(set_focus, 100);\n",
       "}\n",
       "\n",
       "mpl.figure.prototype._init_toolbar = function() {\n",
       "    var fig = this;\n",
       "\n",
       "    var nav_element = $('<div/>');\n",
       "    nav_element.attr('style', 'width: 100%');\n",
       "    this.root.append(nav_element);\n",
       "\n",
       "    // Define a callback function for later on.\n",
       "    function toolbar_event(event) {\n",
       "        return fig.toolbar_button_onclick(event['data']);\n",
       "    }\n",
       "    function toolbar_mouse_event(event) {\n",
       "        return fig.toolbar_button_onmouseover(event['data']);\n",
       "    }\n",
       "\n",
       "    for(var toolbar_ind in mpl.toolbar_items) {\n",
       "        var name = mpl.toolbar_items[toolbar_ind][0];\n",
       "        var tooltip = mpl.toolbar_items[toolbar_ind][1];\n",
       "        var image = mpl.toolbar_items[toolbar_ind][2];\n",
       "        var method_name = mpl.toolbar_items[toolbar_ind][3];\n",
       "\n",
       "        if (!name) {\n",
       "            // put a spacer in here.\n",
       "            continue;\n",
       "        }\n",
       "        var button = $('<button/>');\n",
       "        button.addClass('ui-button ui-widget ui-state-default ui-corner-all ' +\n",
       "                        'ui-button-icon-only');\n",
       "        button.attr('role', 'button');\n",
       "        button.attr('aria-disabled', 'false');\n",
       "        button.click(method_name, toolbar_event);\n",
       "        button.mouseover(tooltip, toolbar_mouse_event);\n",
       "\n",
       "        var icon_img = $('<span/>');\n",
       "        icon_img.addClass('ui-button-icon-primary ui-icon');\n",
       "        icon_img.addClass(image);\n",
       "        icon_img.addClass('ui-corner-all');\n",
       "\n",
       "        var tooltip_span = $('<span/>');\n",
       "        tooltip_span.addClass('ui-button-text');\n",
       "        tooltip_span.html(tooltip);\n",
       "\n",
       "        button.append(icon_img);\n",
       "        button.append(tooltip_span);\n",
       "\n",
       "        nav_element.append(button);\n",
       "    }\n",
       "\n",
       "    var fmt_picker_span = $('<span/>');\n",
       "\n",
       "    var fmt_picker = $('<select/>');\n",
       "    fmt_picker.addClass('mpl-toolbar-option ui-widget ui-widget-content');\n",
       "    fmt_picker_span.append(fmt_picker);\n",
       "    nav_element.append(fmt_picker_span);\n",
       "    this.format_dropdown = fmt_picker[0];\n",
       "\n",
       "    for (var ind in mpl.extensions) {\n",
       "        var fmt = mpl.extensions[ind];\n",
       "        var option = $(\n",
       "            '<option/>', {selected: fmt === mpl.default_extension}).html(fmt);\n",
       "        fmt_picker.append(option);\n",
       "    }\n",
       "\n",
       "    // Add hover states to the ui-buttons\n",
       "    $( \".ui-button\" ).hover(\n",
       "        function() { $(this).addClass(\"ui-state-hover\");},\n",
       "        function() { $(this).removeClass(\"ui-state-hover\");}\n",
       "    );\n",
       "\n",
       "    var status_bar = $('<span class=\"mpl-message\"/>');\n",
       "    nav_element.append(status_bar);\n",
       "    this.message = status_bar[0];\n",
       "}\n",
       "\n",
       "mpl.figure.prototype.request_resize = function(x_pixels, y_pixels) {\n",
       "    // Request matplotlib to resize the figure. Matplotlib will then trigger a resize in the client,\n",
       "    // which will in turn request a refresh of the image.\n",
       "    this.send_message('resize', {'width': x_pixels, 'height': y_pixels});\n",
       "}\n",
       "\n",
       "mpl.figure.prototype.send_message = function(type, properties) {\n",
       "    properties['type'] = type;\n",
       "    properties['figure_id'] = this.id;\n",
       "    this.ws.send(JSON.stringify(properties));\n",
       "}\n",
       "\n",
       "mpl.figure.prototype.send_draw_message = function() {\n",
       "    if (!this.waiting) {\n",
       "        this.waiting = true;\n",
       "        this.ws.send(JSON.stringify({type: \"draw\", figure_id: this.id}));\n",
       "    }\n",
       "}\n",
       "\n",
       "\n",
       "mpl.figure.prototype.handle_save = function(fig, msg) {\n",
       "    var format_dropdown = fig.format_dropdown;\n",
       "    var format = format_dropdown.options[format_dropdown.selectedIndex].value;\n",
       "    fig.ondownload(fig, format);\n",
       "}\n",
       "\n",
       "\n",
       "mpl.figure.prototype.handle_resize = function(fig, msg) {\n",
       "    var size = msg['size'];\n",
       "    if (size[0] != fig.canvas.width || size[1] != fig.canvas.height) {\n",
       "        fig._resize_canvas(size[0], size[1]);\n",
       "        fig.send_message(\"refresh\", {});\n",
       "    };\n",
       "}\n",
       "\n",
       "mpl.figure.prototype.handle_rubberband = function(fig, msg) {\n",
       "    var x0 = msg['x0'] / mpl.ratio;\n",
       "    var y0 = (fig.canvas.height - msg['y0']) / mpl.ratio;\n",
       "    var x1 = msg['x1'] / mpl.ratio;\n",
       "    var y1 = (fig.canvas.height - msg['y1']) / mpl.ratio;\n",
       "    x0 = Math.floor(x0) + 0.5;\n",
       "    y0 = Math.floor(y0) + 0.5;\n",
       "    x1 = Math.floor(x1) + 0.5;\n",
       "    y1 = Math.floor(y1) + 0.5;\n",
       "    var min_x = Math.min(x0, x1);\n",
       "    var min_y = Math.min(y0, y1);\n",
       "    var width = Math.abs(x1 - x0);\n",
       "    var height = Math.abs(y1 - y0);\n",
       "\n",
       "    fig.rubberband_context.clearRect(\n",
       "        0, 0, fig.canvas.width, fig.canvas.height);\n",
       "\n",
       "    fig.rubberband_context.strokeRect(min_x, min_y, width, height);\n",
       "}\n",
       "\n",
       "mpl.figure.prototype.handle_figure_label = function(fig, msg) {\n",
       "    // Updates the figure title.\n",
       "    fig.header.textContent = msg['label'];\n",
       "}\n",
       "\n",
       "mpl.figure.prototype.handle_cursor = function(fig, msg) {\n",
       "    var cursor = msg['cursor'];\n",
       "    switch(cursor)\n",
       "    {\n",
       "    case 0:\n",
       "        cursor = 'pointer';\n",
       "        break;\n",
       "    case 1:\n",
       "        cursor = 'default';\n",
       "        break;\n",
       "    case 2:\n",
       "        cursor = 'crosshair';\n",
       "        break;\n",
       "    case 3:\n",
       "        cursor = 'move';\n",
       "        break;\n",
       "    }\n",
       "    fig.rubberband_canvas.style.cursor = cursor;\n",
       "}\n",
       "\n",
       "mpl.figure.prototype.handle_message = function(fig, msg) {\n",
       "    fig.message.textContent = msg['message'];\n",
       "}\n",
       "\n",
       "mpl.figure.prototype.handle_draw = function(fig, msg) {\n",
       "    // Request the server to send over a new figure.\n",
       "    fig.send_draw_message();\n",
       "}\n",
       "\n",
       "mpl.figure.prototype.handle_image_mode = function(fig, msg) {\n",
       "    fig.image_mode = msg['mode'];\n",
       "}\n",
       "\n",
       "mpl.figure.prototype.updated_canvas_event = function() {\n",
       "    // Called whenever the canvas gets updated.\n",
       "    this.send_message(\"ack\", {});\n",
       "}\n",
       "\n",
       "// A function to construct a web socket function for onmessage handling.\n",
       "// Called in the figure constructor.\n",
       "mpl.figure.prototype._make_on_message_function = function(fig) {\n",
       "    return function socket_on_message(evt) {\n",
       "        if (evt.data instanceof Blob) {\n",
       "            /* FIXME: We get \"Resource interpreted as Image but\n",
       "             * transferred with MIME type text/plain:\" errors on\n",
       "             * Chrome.  But how to set the MIME type?  It doesn't seem\n",
       "             * to be part of the websocket stream */\n",
       "            evt.data.type = \"image/png\";\n",
       "\n",
       "            /* Free the memory for the previous frames */\n",
       "            if (fig.imageObj.src) {\n",
       "                (window.URL || window.webkitURL).revokeObjectURL(\n",
       "                    fig.imageObj.src);\n",
       "            }\n",
       "\n",
       "            fig.imageObj.src = (window.URL || window.webkitURL).createObjectURL(\n",
       "                evt.data);\n",
       "            fig.updated_canvas_event();\n",
       "            fig.waiting = false;\n",
       "            return;\n",
       "        }\n",
       "        else if (typeof evt.data === 'string' && evt.data.slice(0, 21) == \"data:image/png;base64\") {\n",
       "            fig.imageObj.src = evt.data;\n",
       "            fig.updated_canvas_event();\n",
       "            fig.waiting = false;\n",
       "            return;\n",
       "        }\n",
       "\n",
       "        var msg = JSON.parse(evt.data);\n",
       "        var msg_type = msg['type'];\n",
       "\n",
       "        // Call the  \"handle_{type}\" callback, which takes\n",
       "        // the figure and JSON message as its only arguments.\n",
       "        try {\n",
       "            var callback = fig[\"handle_\" + msg_type];\n",
       "        } catch (e) {\n",
       "            console.log(\"No handler for the '\" + msg_type + \"' message type: \", msg);\n",
       "            return;\n",
       "        }\n",
       "\n",
       "        if (callback) {\n",
       "            try {\n",
       "                // console.log(\"Handling '\" + msg_type + \"' message: \", msg);\n",
       "                callback(fig, msg);\n",
       "            } catch (e) {\n",
       "                console.log(\"Exception inside the 'handler_\" + msg_type + \"' callback:\", e, e.stack, msg);\n",
       "            }\n",
       "        }\n",
       "    };\n",
       "}\n",
       "\n",
       "// from http://stackoverflow.com/questions/1114465/getting-mouse-location-in-canvas\n",
       "mpl.findpos = function(e) {\n",
       "    //this section is from http://www.quirksmode.org/js/events_properties.html\n",
       "    var targ;\n",
       "    if (!e)\n",
       "        e = window.event;\n",
       "    if (e.target)\n",
       "        targ = e.target;\n",
       "    else if (e.srcElement)\n",
       "        targ = e.srcElement;\n",
       "    if (targ.nodeType == 3) // defeat Safari bug\n",
       "        targ = targ.parentNode;\n",
       "\n",
       "    // jQuery normalizes the pageX and pageY\n",
       "    // pageX,Y are the mouse positions relative to the document\n",
       "    // offset() returns the position of the element relative to the document\n",
       "    var x = e.pageX - $(targ).offset().left;\n",
       "    var y = e.pageY - $(targ).offset().top;\n",
       "\n",
       "    return {\"x\": x, \"y\": y};\n",
       "};\n",
       "\n",
       "/*\n",
       " * return a copy of an object with only non-object keys\n",
       " * we need this to avoid circular references\n",
       " * http://stackoverflow.com/a/24161582/3208463\n",
       " */\n",
       "function simpleKeys (original) {\n",
       "  return Object.keys(original).reduce(function (obj, key) {\n",
       "    if (typeof original[key] !== 'object')\n",
       "        obj[key] = original[key]\n",
       "    return obj;\n",
       "  }, {});\n",
       "}\n",
       "\n",
       "mpl.figure.prototype.mouse_event = function(event, name) {\n",
       "    var canvas_pos = mpl.findpos(event)\n",
       "\n",
       "    if (name === 'button_press')\n",
       "    {\n",
       "        this.canvas.focus();\n",
       "        this.canvas_div.focus();\n",
       "    }\n",
       "\n",
       "    var x = canvas_pos.x * mpl.ratio;\n",
       "    var y = canvas_pos.y * mpl.ratio;\n",
       "\n",
       "    this.send_message(name, {x: x, y: y, button: event.button,\n",
       "                             step: event.step,\n",
       "                             guiEvent: simpleKeys(event)});\n",
       "\n",
       "    /* This prevents the web browser from automatically changing to\n",
       "     * the text insertion cursor when the button is pressed.  We want\n",
       "     * to control all of the cursor setting manually through the\n",
       "     * 'cursor' event from matplotlib */\n",
       "    event.preventDefault();\n",
       "    return false;\n",
       "}\n",
       "\n",
       "mpl.figure.prototype._key_event_extra = function(event, name) {\n",
       "    // Handle any extra behaviour associated with a key event\n",
       "}\n",
       "\n",
       "mpl.figure.prototype.key_event = function(event, name) {\n",
       "\n",
       "    // Prevent repeat events\n",
       "    if (name == 'key_press')\n",
       "    {\n",
       "        if (event.which === this._key)\n",
       "            return;\n",
       "        else\n",
       "            this._key = event.which;\n",
       "    }\n",
       "    if (name == 'key_release')\n",
       "        this._key = null;\n",
       "\n",
       "    var value = '';\n",
       "    if (event.ctrlKey && event.which != 17)\n",
       "        value += \"ctrl+\";\n",
       "    if (event.altKey && event.which != 18)\n",
       "        value += \"alt+\";\n",
       "    if (event.shiftKey && event.which != 16)\n",
       "        value += \"shift+\";\n",
       "\n",
       "    value += 'k';\n",
       "    value += event.which.toString();\n",
       "\n",
       "    this._key_event_extra(event, name);\n",
       "\n",
       "    this.send_message(name, {key: value,\n",
       "                             guiEvent: simpleKeys(event)});\n",
       "    return false;\n",
       "}\n",
       "\n",
       "mpl.figure.prototype.toolbar_button_onclick = function(name) {\n",
       "    if (name == 'download') {\n",
       "        this.handle_save(this, null);\n",
       "    } else {\n",
       "        this.send_message(\"toolbar_button\", {name: name});\n",
       "    }\n",
       "};\n",
       "\n",
       "mpl.figure.prototype.toolbar_button_onmouseover = function(tooltip) {\n",
       "    this.message.textContent = tooltip;\n",
       "};\n",
       "mpl.toolbar_items = [[\"Home\", \"Reset original view\", \"fa fa-home icon-home\", \"home\"], [\"Back\", \"Back to previous view\", \"fa fa-arrow-left icon-arrow-left\", \"back\"], [\"Forward\", \"Forward to next view\", \"fa fa-arrow-right icon-arrow-right\", \"forward\"], [\"\", \"\", \"\", \"\"], [\"Pan\", \"Pan axes with left mouse, zoom with right\", \"fa fa-arrows icon-move\", \"pan\"], [\"Zoom\", \"Zoom to rectangle\", \"fa fa-square-o icon-check-empty\", \"zoom\"], [\"\", \"\", \"\", \"\"], [\"Download\", \"Download plot\", \"fa fa-floppy-o icon-save\", \"download\"]];\n",
       "\n",
       "mpl.extensions = [\"eps\", \"pdf\", \"png\", \"ps\", \"raw\", \"svg\"];\n",
       "\n",
       "mpl.default_extension = \"png\";var comm_websocket_adapter = function(comm) {\n",
       "    // Create a \"websocket\"-like object which calls the given IPython comm\n",
       "    // object with the appropriate methods. Currently this is a non binary\n",
       "    // socket, so there is still some room for performance tuning.\n",
       "    var ws = {};\n",
       "\n",
       "    ws.close = function() {\n",
       "        comm.close()\n",
       "    };\n",
       "    ws.send = function(m) {\n",
       "        //console.log('sending', m);\n",
       "        comm.send(m);\n",
       "    };\n",
       "    // Register the callback with on_msg.\n",
       "    comm.on_msg(function(msg) {\n",
       "        //console.log('receiving', msg['content']['data'], msg);\n",
       "        // Pass the mpl event to the overridden (by mpl) onmessage function.\n",
       "        ws.onmessage(msg['content']['data'])\n",
       "    });\n",
       "    return ws;\n",
       "}\n",
       "\n",
       "mpl.mpl_figure_comm = function(comm, msg) {\n",
       "    // This is the function which gets called when the mpl process\n",
       "    // starts-up an IPython Comm through the \"matplotlib\" channel.\n",
       "\n",
       "    var id = msg.content.data.id;\n",
       "    // Get hold of the div created by the display call when the Comm\n",
       "    // socket was opened in Python.\n",
       "    var element = $(\"#\" + id);\n",
       "    var ws_proxy = comm_websocket_adapter(comm)\n",
       "\n",
       "    function ondownload(figure, format) {\n",
       "        window.open(figure.imageObj.src);\n",
       "    }\n",
       "\n",
       "    var fig = new mpl.figure(id, ws_proxy,\n",
       "                           ondownload,\n",
       "                           element.get(0));\n",
       "\n",
       "    // Call onopen now - mpl needs it, as it is assuming we've passed it a real\n",
       "    // web socket which is closed, not our websocket->open comm proxy.\n",
       "    ws_proxy.onopen();\n",
       "\n",
       "    fig.parent_element = element.get(0);\n",
       "    fig.cell_info = mpl.find_output_cell(\"<div id='\" + id + \"'></div>\");\n",
       "    if (!fig.cell_info) {\n",
       "        console.error(\"Failed to find cell for figure\", id, fig);\n",
       "        return;\n",
       "    }\n",
       "\n",
       "    var output_index = fig.cell_info[2]\n",
       "    var cell = fig.cell_info[0];\n",
       "\n",
       "};\n",
       "\n",
       "mpl.figure.prototype.handle_close = function(fig, msg) {\n",
       "    var width = fig.canvas.width/mpl.ratio\n",
       "    fig.root.unbind('remove')\n",
       "\n",
       "    // Update the output cell to use the data from the current canvas.\n",
       "    fig.push_to_output();\n",
       "    var dataURL = fig.canvas.toDataURL();\n",
       "    // Re-enable the keyboard manager in IPython - without this line, in FF,\n",
       "    // the notebook keyboard shortcuts fail.\n",
       "    IPython.keyboard_manager.enable()\n",
       "    $(fig.parent_element).html('<img src=\"' + dataURL + '\" width=\"' + width + '\">');\n",
       "    fig.close_ws(fig, msg);\n",
       "}\n",
       "\n",
       "mpl.figure.prototype.close_ws = function(fig, msg){\n",
       "    fig.send_message('closing', msg);\n",
       "    // fig.ws.close()\n",
       "}\n",
       "\n",
       "mpl.figure.prototype.push_to_output = function(remove_interactive) {\n",
       "    // Turn the data on the canvas into data in the output cell.\n",
       "    var width = this.canvas.width/mpl.ratio\n",
       "    var dataURL = this.canvas.toDataURL();\n",
       "    this.cell_info[1]['text/html'] = '<img src=\"' + dataURL + '\" width=\"' + width + '\">';\n",
       "}\n",
       "\n",
       "mpl.figure.prototype.updated_canvas_event = function() {\n",
       "    // Tell IPython that the notebook contents must change.\n",
       "    IPython.notebook.set_dirty(true);\n",
       "    this.send_message(\"ack\", {});\n",
       "    var fig = this;\n",
       "    // Wait a second, then push the new image to the DOM so\n",
       "    // that it is saved nicely (might be nice to debounce this).\n",
       "    setTimeout(function () { fig.push_to_output() }, 1000);\n",
       "}\n",
       "\n",
       "mpl.figure.prototype._init_toolbar = function() {\n",
       "    var fig = this;\n",
       "\n",
       "    var nav_element = $('<div/>');\n",
       "    nav_element.attr('style', 'width: 100%');\n",
       "    this.root.append(nav_element);\n",
       "\n",
       "    // Define a callback function for later on.\n",
       "    function toolbar_event(event) {\n",
       "        return fig.toolbar_button_onclick(event['data']);\n",
       "    }\n",
       "    function toolbar_mouse_event(event) {\n",
       "        return fig.toolbar_button_onmouseover(event['data']);\n",
       "    }\n",
       "\n",
       "    for(var toolbar_ind in mpl.toolbar_items){\n",
       "        var name = mpl.toolbar_items[toolbar_ind][0];\n",
       "        var tooltip = mpl.toolbar_items[toolbar_ind][1];\n",
       "        var image = mpl.toolbar_items[toolbar_ind][2];\n",
       "        var method_name = mpl.toolbar_items[toolbar_ind][3];\n",
       "\n",
       "        if (!name) { continue; };\n",
       "\n",
       "        var button = $('<button class=\"btn btn-default\" href=\"#\" title=\"' + name + '\"><i class=\"fa ' + image + ' fa-lg\"></i></button>');\n",
       "        button.click(method_name, toolbar_event);\n",
       "        button.mouseover(tooltip, toolbar_mouse_event);\n",
       "        nav_element.append(button);\n",
       "    }\n",
       "\n",
       "    // Add the status bar.\n",
       "    var status_bar = $('<span class=\"mpl-message\" style=\"text-align:right; float: right;\"/>');\n",
       "    nav_element.append(status_bar);\n",
       "    this.message = status_bar[0];\n",
       "\n",
       "    // Add the close button to the window.\n",
       "    var buttongrp = $('<div class=\"btn-group inline pull-right\"></div>');\n",
       "    var button = $('<button class=\"btn btn-mini btn-primary\" href=\"#\" title=\"Stop Interaction\"><i class=\"fa fa-power-off icon-remove icon-large\"></i></button>');\n",
       "    button.click(function (evt) { fig.handle_close(fig, {}); } );\n",
       "    button.mouseover('Stop Interaction', toolbar_mouse_event);\n",
       "    buttongrp.append(button);\n",
       "    var titlebar = this.root.find($('.ui-dialog-titlebar'));\n",
       "    titlebar.prepend(buttongrp);\n",
       "}\n",
       "\n",
       "mpl.figure.prototype._root_extra_style = function(el){\n",
       "    var fig = this\n",
       "    el.on(\"remove\", function(){\n",
       "\tfig.close_ws(fig, {});\n",
       "    });\n",
       "}\n",
       "\n",
       "mpl.figure.prototype._canvas_extra_style = function(el){\n",
       "    // this is important to make the div 'focusable\n",
       "    el.attr('tabindex', 0)\n",
       "    // reach out to IPython and tell the keyboard manager to turn it's self\n",
       "    // off when our div gets focus\n",
       "\n",
       "    // location in version 3\n",
       "    if (IPython.notebook.keyboard_manager) {\n",
       "        IPython.notebook.keyboard_manager.register_events(el);\n",
       "    }\n",
       "    else {\n",
       "        // location in version 2\n",
       "        IPython.keyboard_manager.register_events(el);\n",
       "    }\n",
       "\n",
       "}\n",
       "\n",
       "mpl.figure.prototype._key_event_extra = function(event, name) {\n",
       "    var manager = IPython.notebook.keyboard_manager;\n",
       "    if (!manager)\n",
       "        manager = IPython.keyboard_manager;\n",
       "\n",
       "    // Check for shift+enter\n",
       "    if (event.shiftKey && event.which == 13) {\n",
       "        this.canvas_div.blur();\n",
       "        event.shiftKey = false;\n",
       "        // Send a \"J\" for go to next cell\n",
       "        event.which = 74;\n",
       "        event.keyCode = 74;\n",
       "        manager.command_mode();\n",
       "        manager.handle_keydown(event);\n",
       "    }\n",
       "}\n",
       "\n",
       "mpl.figure.prototype.handle_save = function(fig, msg) {\n",
       "    fig.ondownload(fig, null);\n",
       "}\n",
       "\n",
       "\n",
       "mpl.find_output_cell = function(html_output) {\n",
       "    // Return the cell and output element which can be found *uniquely* in the notebook.\n",
       "    // Note - this is a bit hacky, but it is done because the \"notebook_saving.Notebook\"\n",
       "    // IPython event is triggered only after the cells have been serialised, which for\n",
       "    // our purposes (turning an active figure into a static one), is too late.\n",
       "    var cells = IPython.notebook.get_cells();\n",
       "    var ncells = cells.length;\n",
       "    for (var i=0; i<ncells; i++) {\n",
       "        var cell = cells[i];\n",
       "        if (cell.cell_type === 'code'){\n",
       "            for (var j=0; j<cell.output_area.outputs.length; j++) {\n",
       "                var data = cell.output_area.outputs[j];\n",
       "                if (data.data) {\n",
       "                    // IPython >= 3 moved mimebundle to data attribute of output\n",
       "                    data = data.data;\n",
       "                }\n",
       "                if (data['text/html'] == html_output) {\n",
       "                    return [cell, data, j];\n",
       "                }\n",
       "            }\n",
       "        }\n",
       "    }\n",
       "}\n",
       "\n",
       "// Register the function which deals with the matplotlib target/channel.\n",
       "// The kernel may be null if the page has been refreshed.\n",
       "if (IPython.notebook.kernel != null) {\n",
       "    IPython.notebook.kernel.comm_manager.register_target('matplotlib', mpl.mpl_figure_comm);\n",
       "}\n"
      ],
      "text/plain": [
       "<IPython.core.display.Javascript object>"
      ]
     },
     "metadata": {},
     "output_type": "display_data"
    },
    {
     "data": {
      "text/html": [
       "<img src=\"data:image/png;base64,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\" width=\"999.4166666666666\">"
      ],
      "text/plain": [
       "<IPython.core.display.HTML object>"
      ]
     },
     "metadata": {},
     "output_type": "display_data"
    }
   ],
   "source": [
    "save_graph = True\n",
    "\n",
    "plt.plot(vna.get_frequencies(), 20*log10(abs(vna.get_sdata())))\n",
    "# plt.plot(vna.get_frequencies(), unwrap(angle(vna.get_sdata())))\n",
    "\n",
    "for scan_area in scan_areas:\n",
    "    plt.plot(scan_area, ones(2)*min(20*log10(abs(vna.get_sdata()))), marker=\"+\")\n",
    "        \n",
    "# plt.xlim(scan_areas[1]) # the x-axis limits may are set to a certain scan area to check whether it was guessed correctly\n",
    "plt.ylim(min(20*log10(abs(vna.get_sdata())))-5,max(20*log10(abs(vna.get_sdata())))+5)\n",
    "# plt.xlim(5.0e9, 8.0e9)\n",
    "plt.minorticks_on()\n",
    "plt.grid(which=\"both\")\n",
    "plt.gcf().set_size_inches(10, 3)\n",
    "\n",
    "# Here the first datafile is created. It is placed in a folder with current date which is also created below.\n",
    "\n",
    "if save_graph:\n",
    "    try:\n",
    "        os.mkdir(\"./data/\"+str(datetime.datetime.now().date()))\n",
    "    except FileExistsError:\n",
    "        pass\n",
    "    with open(\"./data/\"+str(datetime.datetime.now().date())+\"/\"+sample_name+\".pkl\", \"wb\") as f:\n",
    "        pickle.dump((vna.get_frequencies(), vna.get_sdata()), f)\n",
    "        \n",
    "    plt.savefig(\"./data/\"+str(datetime.datetime.now().date())+\"/\"+sample_name+'.pdf')    \n",
    "    plt.savefig(\"./data/\"+str(datetime.datetime.now().date())+\"/\"+sample_name+'.png')         "
   ]
  },
  {
   "cell_type": "markdown",
   "metadata": {},
   "source": [
    "# Recording a zoomed scan inside each scan area at each power"
   ]
  },
  {
   "cell_type": "code",
   "execution_count": 61,
   "metadata": {},
   "outputs": [],
   "source": [
    "power_scans = {}\n",
    "vna.set_nop(1001)\n",
    "vna.set_bandwidth(1000)\n",
    "powers = linspace(-40, 10, 51) # the powers we are using to scan through"
   ]
  },
  {
   "cell_type": "markdown",
   "metadata": {},
   "source": [
    "First we make noise calibration to make sure we will not perform redundant averaging:"
   ]
  },
  {
   "cell_type": "code",
   "execution_count": 62,
   "metadata": {},
   "outputs": [],
   "source": [
    "def theory_noise_amps_pow(power, exponent, max_noise):\n",
    "    return max_noise*exp(-power*exponent)\n",
    "# def theory_noise_amps_avg(average, max_noise):\n",
    "#     return max_noise/sqrt(average)\n",
    "def calibrate_noise(scan_area, powers):\n",
    "    noises = []\n",
    "    powers = powers[::]\n",
    "    vna.set_center(mean(scan_area)+10e6)\n",
    "    vna.set_span(1)\n",
    "    vna.set_averages(1)\n",
    "    for power in powers:\n",
    "        vna.set_power(power)\n",
    "        vna.prepare_for_stb()\n",
    "        vna.sweep_single()\n",
    "        vna.wait_for_stb()\n",
    "        noises.append(vna.get_sdata())\n",
    "        print(\"\\rPower:\", power, end=\"\")\n",
    "    noise_amps = [sqrt(mean((abs(noise) - mean(abs(noise)))**2))/mean(abs(noise)) for noise in noises] \n",
    "    opt_params = curve_fit(theory_noise_amps_pow, powers, noise_amps, p0=(0.01,0.1))[0]\n",
    "    return opt_params, noise_amps"
   ]
  },
  {
   "cell_type": "code",
   "execution_count": 63,
   "metadata": {},
   "outputs": [
    {
     "name": "stdout",
     "output_type": "stream",
     "text": [
      "Power: 10.00"
     ]
    }
   ],
   "source": [
    "opt_params, noise_amps = calibrate_noise(scan_areas[0], powers[5::5])"
   ]
  },
  {
   "cell_type": "code",
   "execution_count": 64,
   "metadata": {},
   "outputs": [
    {
     "data": {
      "text/plain": [
       "[<matplotlib.lines.Line2D at 0x23a15495ba8>]"
      ]
     },
     "execution_count": 64,
     "metadata": {},
     "output_type": "execute_result"
    }
   ],
   "source": [
    "plot(theory_noise_amps_pow(powers[5::5], *opt_params))\n",
    "plot(noise_amps, '--o')"
   ]
  },
  {
   "cell_type": "code",
   "execution_count": 60,
   "metadata": {
    "collapsed": true
   },
   "outputs": [],
   "source": [
    "vna.sweep_hold() #если лазил руками в VNA"
   ]
  },
  {
   "cell_type": "code",
   "execution_count": 65,
   "metadata": {
    "scrolled": false
   },
   "outputs": [
    {
     "name": "stdout",
     "output_type": "stream",
     "text": [
      "Started at: 2019-01-16 16:12:58.410409\n",
      "[-40. -39. -38. -37. -36.]\n",
      "(2559000000.0, 2609000000.0) avg: 1.0 power:10.0   Done!\n",
      "(2671000000.0, 2721000000.0) avg: 1.0 power:10.0   Done!\n",
      "(2926000000.0, 2976000000.0) avg: 1.0 power:10.0  Done!\n",
      "(3180000000.0, 3230000000.0) avg: 1.0 power:10.0  Done!\n",
      "(3434000000.0, 3484000000.0) avg: 1.0 power:10.0  Done!\n",
      "(3687000000.0, 3737000000.0) avg: 1.0 power:10.0  Done!\n",
      "(3939000000.0, 3989000000.0) avg: 1.0 power:10.0  Done!\n",
      "(4188000000.0, 4238000000.0) avg: 1.0 power:10.0  Done!\n",
      "(4436000000.0, 4486000000.0) avg: 1.0 power:10.0  Done!\n",
      "(4683000000.0, 4733000000.0) avg: 1.0 power:10.0  Done!\n",
      "(4927000000.0, 4977000000.0) avg: 1.0 power:10.0  Done!\n",
      "(5171000000.0, 5221000000.0) avg: 1.0 power:10.0  Done!\n",
      "(5416000000.0, 5466000000.0) avg: 1.0 power:10.0  Done!\n",
      "(5662000000.0, 5712000000.0) avg: 1.0 power:10.0  Done!\n",
      "(5908000000.0, 5958000000.0) avg: 1.0 power:10.0  Done!\n",
      "(6155000000.0, 6205000000.0) avg: 1.0 power:10.0  Done!\n",
      "(6400000000.0, 6450000000.0) avg: 1.0 power:10.0  Done!\n",
      "(6657000000.0, 6707000000.0) avg: 1.0 power:10.0  Done!\n",
      "(6900000000.0, 6950000000.0) avg: 1.0 power:10.0  Done!\n",
      "(7182000000.0, 7232000000.0) avg: 1.0 power:10.0  Done!\n",
      "(7420000000.0, 7470000000.0) avg: 1.0 power:10.0  Done!\n",
      "(7952000000.0, 8002000000.0) avg: 1.0 power:10.0  Done!\n",
      "(8197000000.0, 8247000000.0) avg: 1.0 power:10.0  Done!\n",
      "(8424000000.0, 8474000000.0) avg: 1.0 power:10.0    Done!\n"
     ]
    }
   ],
   "source": [
    "time_start = datetime.datetime.now()\n",
    "print(\"Started at:\", time_start)\n",
    "\n",
    "print(powers[:5]) # to check the powers are nice whole numbers\n",
    "\n",
    "# Beginning the scan here             \n",
    "for scan_area in scan_areas[:]:\n",
    "    S21s = []\n",
    "    \n",
    "    opt_params, noise_amps = calibrate_noise(scan_area, powers[5::10])\n",
    "    averages_arr = around(500*theory_noise_amps_pow(powers, *opt_params)**2)\n",
    "    averages_arr[averages_arr==0]=1\n",
    "    vna.set_xlim(*scan_area)\n",
    "    \n",
    "    for power, averages in zip(powers, averages_arr):\n",
    "        vna.set_power(power)\n",
    "        vna.set_averages(averages)\n",
    "        print(\"\\r\"+str(scan_area), \"avg: \"+str(averages), \"power:\"+str(power), end=\" \", flush=True)\n",
    "        \n",
    "        vna.prepare_for_stb()\n",
    "        vna.sweep_single()\n",
    "        vna.wait_for_stb()\n",
    "        \n",
    "        vna.autoscale_all()\n",
    "        S21s.append((vna.get_frequencies(), vna.get_sdata()))\n",
    "    power_scans[scan_area] = S21s\n",
    "    print(\"Done!\")\n",
    "with open(\"./data/\"\n",
    "          +str(time_start.date())\\\n",
    "          +\"/\"+sample_name+\"_resonators_on_power.pkl\", \"wb\") as f:\n",
    "    pickle.dump((scan_areas, powers, power_scans), f)"
   ]
  },
  {
   "cell_type": "markdown",
   "metadata": {},
   "source": [
    "## Dependence from bandwith"
   ]
  },
  {
   "cell_type": "code",
   "execution_count": 66,
   "metadata": {},
   "outputs": [],
   "source": [
    "scan_area = scan_areas[-1]\n",
    "bw_list = [1e4,1e3,1e2,1e1]\n",
    "powers = linspace(-40,0,11)"
   ]
  },
  {
   "cell_type": "code",
   "execution_count": 67,
   "metadata": {
    "scrolled": false
   },
   "outputs": [
    {
     "name": "stdout",
     "output_type": "stream",
     "text": [
      "Started at: 2019-01-16 17:23:33.577294\n",
      "[-40. -36. -32. -28. -24.]\n",
      "(8424000000.0, 8474000000.0) avg: 1.0 power:0.0    Done!\n",
      "(8424000000.0, 8474000000.0) avg: 1.0 power:0.0    Done!\n",
      "(8424000000.0, 8474000000.0) avg: 1.0 power:0.0    Done!\n",
      "(8424000000.0, 8474000000.0) avg: 1.0 power:0.0   Done!\n"
     ]
    }
   ],
   "source": [
    "time_start = datetime.datetime.now()\n",
    "print(\"Started at:\", time_start)\n",
    "\n",
    "print(powers[:5]) # to check the powers are nice whole numbers\n",
    "\n",
    "# Beginning the scan here             \n",
    "for bw in bw_list:\n",
    "    \n",
    "    S21s = []\n",
    "    vna.set_bandwidth(bw)\n",
    "    opt_params, noise_amps = calibrate_noise(scan_area, powers[2::3])\n",
    "    averages_arr = around(50*theory_noise_amps_pow(powers, *opt_params)**2)\n",
    "    averages_arr[averages_arr==0]=1\n",
    "    vna.set_xlim(*scan_area)\n",
    "    \n",
    "    for power, averages in zip(powers, averages_arr):\n",
    "        vna.set_power(power)\n",
    "        \n",
    "        vna.set_averages(averages)\n",
    "        print(\"\\r\"+str(scan_area), \"avg: \"+str(averages), \"power:\"+str(power), end=\" \", flush=True)\n",
    "        \n",
    "        vna.prepare_for_stb()\n",
    "        vna.sweep_single()\n",
    "        vna.wait_for_stb()\n",
    "        \n",
    "        vna.autoscale_all()\n",
    "        S21s.append((vna.get_frequencies(), vna.get_sdata()))\n",
    "    power_scans[bw] = S21s\n",
    "    print(\"Done!\")\n",
    "with open(\"./data/\"\n",
    "          +str(time_start.date())\\\n",
    "          +\"/\"+sample_name+\"TII_resonator_on_bw.pkl\", \"wb\") as f:\n",
    "    pickle.dump((scan_areas, powers, bw_list, power_scans), f)"
   ]
  },
  {
   "cell_type": "code",
   "execution_count": null,
   "metadata": {
    "collapsed": true
   },
   "outputs": [],
   "source": []
  },
  {
   "cell_type": "code",
   "execution_count": 57,
   "metadata": {
    "collapsed": true
   },
   "outputs": [],
   "source": [
    "#with open(\"./data/\"\\\n",
    "#          +str(time_start.date())\\\n",
    "#          +\"/\"+sample_name+\"_resonators_on_power.pkl\", \"wb\") as f:\n",
    "#    pickle.dump((scan_areas, powers, power_scans), f)"
   ]
  },
  {
   "cell_type": "code",
   "execution_count": 26,
   "metadata": {},
   "outputs": [
    {
     "data": {
      "image/png": "[encoded data removed]",
      "text/plain": [
       "<matplotlib.figure.Figure at 0x29992469c50>"
      ]
     },
     "metadata": {},
     "output_type": "display_data"
    }
   ],
   "source": [
    "scan_area = scan_areas[7]\n",
    "plt.plot(power_scans[scan_area][0][0], 20*log10(abs(power_scans[scan_area][0][1])))\n",
    "plt.plot(power_scans[scan_area][-1][0], 20*log10(abs(power_scans[scan_area][-1][1])))\n",
    "plt.gcf().set_size_inches(13,5)"
   ]
  },
  {
   "cell_type": "markdown",
   "metadata": {},
   "source": [
    "До сих пор"
   ]
  },
  {
   "cell_type": "code",
   "execution_count": null,
   "metadata": {
    "collapsed": true
   },
   "outputs": [],
   "source": []
  },
  {
   "cell_type": "code",
   "execution_count": null,
   "metadata": {
    "collapsed": true
   },
   "outputs": [],
   "source": []
  },
  {
   "cell_type": "code",
   "execution_count": null,
   "metadata": {
    "collapsed": true
   },
   "outputs": [],
   "source": [
    "vna.set_xlim(*scan_areas[1])"
   ]
  },
  {
   "cell_type": "markdown",
   "metadata": {},
   "source": [
    "##  Noise calibration"
   ]
  },
  {
   "cell_type": "code",
   "execution_count": null,
   "metadata": {
    "collapsed": true
   },
   "outputs": [],
   "source": [
    "peak_vicinity = mean(scan_areas[0])+linspace(-1, 1, 2)"
   ]
  },
  {
   "cell_type": "code",
   "execution_count": null,
   "metadata": {
    "collapsed": true
   },
   "outputs": [],
   "source": [
    "power_scans = {}\n",
    "vna.set_nop(1000)\n",
    "vna.set_bandwidth(500)\n",
    "vna.set_averages(1)"
   ]
  },
  {
   "cell_type": "code",
   "execution_count": null,
   "metadata": {
    "collapsed": true
   },
   "outputs": [],
   "source": [
    "powers = linspace(-60, -30, 31)"
   ]
  },
  {
   "cell_type": "code",
   "execution_count": null,
   "metadata": {
    "collapsed": true
   },
   "outputs": [],
   "source": [
    "noises_pow = []\n",
    "vna.set_xlim(*peak_vicinity)\n",
    "    \n",
    "for power in powers:\n",
    "    vna.set_power(power)\n",
    "    vna.prepare_for_stb()\n",
    "    vna.sweep_single()\n",
    "    vna.wait_for_stb()\n",
    "    noises_pow.append(vna.get_sdata())\n",
    "    print(\"\\rPower:\", power, end=\"\")"
   ]
  },
  {
   "cell_type": "code",
   "execution_count": null,
   "metadata": {
    "collapsed": true
   },
   "outputs": [],
   "source": [
    "noise_amps = [sqrt(sum(abs(noise - mean(noise))**2)) for noise in noises_pow] \n",
    "opt_params = curve_fit(theory_noise_amps_pow, powers, noise_amps, p0=(0.01,0.6))[0]"
   ]
  },
  {
   "cell_type": "code",
   "execution_count": null,
   "metadata": {
    "collapsed": true
   },
   "outputs": [],
   "source": [
    "opt_params"
   ]
  },
  {
   "cell_type": "code",
   "execution_count": null,
   "metadata": {
    "collapsed": true
   },
   "outputs": [],
   "source": [
    "plt.plot(powers, noise_amps)\n",
    "plt.plot(powers, theory_noise_amps_pow(powers, *opt_params))"
   ]
  },
  {
   "cell_type": "code",
   "execution_count": null,
   "metadata": {
    "collapsed": true
   },
   "outputs": [],
   "source": [
    "averages = linspace(1, 50, 50)"
   ]
  },
  {
   "cell_type": "code",
   "execution_count": null,
   "metadata": {
    "collapsed": true
   },
   "outputs": [],
   "source": [
    "noises = []\n",
    "vna.set_xlim(*peak_vicinity)\n",
    "vna.set_power(-60)\n",
    "for average in averages:\n",
    "    vna.set_averages(average)\n",
    "    vna.prepare_for_stb()\n",
    "    vna.sweep_single()\n",
    "    vna.wait_for_stb()\n",
    "    noises.append(vna.get_sdata())\n",
    "    print(\"\\rAverage:\", average, end=\"\")"
   ]
  },
  {
   "cell_type": "code",
   "execution_count": null,
   "metadata": {
    "collapsed": true
   },
   "outputs": [],
   "source": [
    "noise_amps = [sqrt(sum(abs(noise - mean(noise))**2)) for noise in noises] "
   ]
  },
  {
   "cell_type": "code",
   "execution_count": null,
   "metadata": {
    "collapsed": true
   },
   "outputs": [],
   "source": [
    "opt_params = curve_fit(theory_noise_amps_avg, averages[:25], noise_amps, p0=(1))[0]"
   ]
  },
  {
   "cell_type": "code",
   "execution_count": null,
   "metadata": {
    "collapsed": true
   },
   "outputs": [],
   "source": [
    "plt.plot(averages[:25], noise_amps)\n",
    "plt.plot(averages[:25], theory_noise_amps_avg(averages[:25], *opt_params))"
   ]
  },
  {
   "cell_type": "code",
   "execution_count": null,
   "metadata": {
    "collapsed": true
   },
   "outputs": [],
   "source": [
    "X = linspace(1, 25)\n",
    "Y_pow = exp(-X)\n",
    "Y_avg = 1/sqrt(X)"
   ]
  },
  {
   "cell_type": "code",
   "execution_count": null,
   "metadata": {
    "collapsed": true
   },
   "outputs": [],
   "source": [
    "plt.plot(X, Y_pow, X, Y_avg)"
   ]
  },
  {
   "cell_type": "code",
   "execution_count": null,
   "metadata": {
    "collapsed": true
   },
   "outputs": [],
   "source": [
    "mxg"
   ]
  },
  {
   "cell_type": "code",
   "execution_count": null,
   "metadata": {
    "collapsed": true
   },
   "outputs": [],
   "source": [
    "from importlib import reload"
   ]
  },
  {
   "cell_type": "code",
   "execution_count": null,
   "metadata": {
    "collapsed": true
   },
   "outputs": [],
   "source": [
    "reload(Measurement_AD_1)"
   ]
  },
  {
   "cell_type": "code",
   "execution_count": null,
   "metadata": {
    "collapsed": true
   },
   "outputs": [],
   "source": [
    "import Measurement_AD_1"
   ]
  },
  {
   "cell_type": "code",
   "execution_count": null,
   "metadata": {
    "collapsed": true
   },
   "outputs": [],
   "source": [
    "from Measurement_AD_1 import *\n"
   ]
  },
  {
   "cell_type": "code",
   "execution_count": null,
   "metadata": {
    "collapsed": true
   },
   "outputs": [],
   "source": [
    "meas = Measurement(['exa'])"
   ]
  },
  {
   "cell_type": "code",
   "execution_count": null,
   "metadata": {
    "collapsed": true
   },
   "outputs": [],
   "source": [
    "meas._exa"
   ]
  },
  {
   "cell_type": "code",
   "execution_count": null,
   "metadata": {
    "collapsed": true
   },
   "outputs": [],
   "source": [
    "meas._exa"
   ]
  },
  {
   "cell_type": "code",
   "execution_count": null,
   "metadata": {
    "collapsed": true
   },
   "outputs": [],
   "source": []
  }
 ],
 "metadata": {
  "anaconda-cloud": {},
  "kernelspec": {
   "display_name": "Python 3",
   "language": "python",
   "name": "python3"
  },
  "language_info": {
   "codemirror_mode": {
    "name": "ipython",
    "version": 3
   },
   "file_extension": ".py",
   "mimetype": "text/x-python",
   "name": "python",
   "nbconvert_exporter": "python",
   "pygments_lexer": "ipython3",
   "version": "3.7.1"
  }
 },
 "nbformat": 4,
 "nbformat_minor": 1
}
